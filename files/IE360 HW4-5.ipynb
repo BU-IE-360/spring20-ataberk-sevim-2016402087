{
 "cells": [
  {
   "cell_type": "markdown",
   "metadata": {},
   "source": [
    "# IE 360 HW 4-5"
   ]
  },
  {
   "cell_type": "code",
   "execution_count": 1,
   "metadata": {
    "scrolled": true
   },
   "outputs": [
    {
     "name": "stderr",
     "output_type": "stream",
     "text": [
      "Installing package into 'C:/Users/ataberk/Documents/R/win-library/3.6'\n",
      "(as 'lib' is unspecified)\n"
     ]
    },
    {
     "name": "stdout",
     "output_type": "stream",
     "text": [
      "package 'readxl' successfully unpacked and MD5 sums checked\n",
      "\n",
      "The downloaded binary packages are in\n",
      "\tC:\\Users\\ataberk\\AppData\\Local\\Temp\\Rtmpof2gVc\\downloaded_packages\n"
     ]
    },
    {
     "name": "stderr",
     "output_type": "stream",
     "text": [
      "Warning message:\n",
      "\"package 'readxl' was built under R version 3.6.3\"Installing package into 'C:/Users/ataberk/Documents/R/win-library/3.6'\n",
      "(as 'lib' is unspecified)\n",
      "Warning message:\n",
      "\"package 'stats' is not available (for R version 3.6.1)\"Warning message:\n",
      "\"package 'stats' is a base package, and should not be updated\"Warning message:\n",
      "\"package 'dplyr' was built under R version 3.6.3\"\n",
      "Attaching package: 'dplyr'\n",
      "\n",
      "The following objects are masked from 'package:stats':\n",
      "\n",
      "    filter, lag\n",
      "\n",
      "The following objects are masked from 'package:base':\n",
      "\n",
      "    intersect, setdiff, setequal, union\n",
      "\n",
      "Warning message:\n",
      "\"package 'xts' was built under R version 3.6.3\"Loading required package: zoo\n",
      "Warning message:\n",
      "\"package 'zoo' was built under R version 3.6.3\"\n",
      "Attaching package: 'zoo'\n",
      "\n",
      "The following objects are masked from 'package:base':\n",
      "\n",
      "    as.Date, as.Date.numeric\n",
      "\n",
      "\n",
      "Attaching package: 'xts'\n",
      "\n",
      "The following objects are masked from 'package:dplyr':\n",
      "\n",
      "    first, last\n",
      "\n",
      "Warning message:\n",
      "\"package 'data.table' was built under R version 3.6.3\"\n",
      "Attaching package: 'data.table'\n",
      "\n",
      "The following objects are masked from 'package:xts':\n",
      "\n",
      "    first, last\n",
      "\n",
      "The following objects are masked from 'package:dplyr':\n",
      "\n",
      "    between, first, last\n",
      "\n",
      "Warning message:\n",
      "\"package 'forecast' was built under R version 3.6.3\"Registered S3 method overwritten by 'quantmod':\n",
      "  method            from\n",
      "  as.zoo.data.frame zoo \n",
      "Warning message:\n",
      "\"package 'ggplot2' was built under R version 3.6.3\"Installing package into 'C:/Users/ataberk/Documents/R/win-library/3.6'\n",
      "(as 'lib' is unspecified)\n"
     ]
    },
    {
     "name": "stdout",
     "output_type": "stream",
     "text": [
      "package 'reshape' successfully unpacked and MD5 sums checked\n",
      "\n",
      "The downloaded binary packages are in\n",
      "\tC:\\Users\\ataberk\\AppData\\Local\\Temp\\Rtmpof2gVc\\downloaded_packages\n"
     ]
    },
    {
     "name": "stderr",
     "output_type": "stream",
     "text": [
      "Warning message:\n",
      "\"package 'reshape' was built under R version 3.6.3\"\n",
      "Attaching package: 'reshape'\n",
      "\n",
      "The following object is masked from 'package:data.table':\n",
      "\n",
      "    melt\n",
      "\n",
      "The following object is masked from 'package:dplyr':\n",
      "\n",
      "    rename\n",
      "\n"
     ]
    }
   ],
   "source": [
    "install.packages(\"readxl\")\n",
    "library(readxl)\n",
    "install.packages(\"stats\")\n",
    "library(stats)\n",
    "library(dplyr)\n",
    "library(xts)\n",
    "library(data.table)\n",
    "library(forecast)\n",
    "library(ggplot2)\n",
    "install.packages(\"reshape\")\n",
    "library(reshape)"
   ]
  },
  {
   "cell_type": "code",
   "execution_count": 2,
   "metadata": {
    "scrolled": false
   },
   "outputs": [
    {
     "name": "stderr",
     "output_type": "stream",
     "text": [
      "Installing package into 'C:/Users/ataberk/Documents/R/win-library/3.6'\n",
      "(as 'lib' is unspecified)\n"
     ]
    },
    {
     "name": "stdout",
     "output_type": "stream",
     "text": [
      "package 'astsa' successfully unpacked and MD5 sums checked\n",
      "\n",
      "The downloaded binary packages are in\n",
      "\tC:\\Users\\ataberk\\AppData\\Local\\Temp\\Rtmpof2gVc\\downloaded_packages\n"
     ]
    },
    {
     "name": "stderr",
     "output_type": "stream",
     "text": [
      "Warning message:\n",
      "\"package 'astsa' was built under R version 3.6.3\"\n",
      "Attaching package: 'astsa'\n",
      "\n",
      "The following object is masked from 'package:forecast':\n",
      "\n",
      "    gas\n",
      "\n"
     ]
    }
   ],
   "source": [
    "install.packages(\"astsa\")\n",
    "library(astsa)"
   ]
  },
  {
   "cell_type": "markdown",
   "metadata": {},
   "source": [
    "Installing required libraries."
   ]
  },
  {
   "cell_type": "code",
   "execution_count": 127,
   "metadata": {},
   "outputs": [],
   "source": [
    "data <- read.csv(\"C:/Users/ataberk/Desktop/Metro_Interstate_Traffic_Volume.csv\")"
   ]
  },
  {
   "cell_type": "markdown",
   "metadata": {},
   "source": [
    "Reading the data\n"
   ]
  },
  {
   "cell_type": "markdown",
   "metadata": {},
   "source": [
    "## Exploratory Analysis"
   ]
  },
  {
   "cell_type": "code",
   "execution_count": 28,
   "metadata": {},
   "outputs": [
    {
     "name": "stdout",
     "output_type": "stream",
     "text": [
      "'data.frame':\t48204 obs. of  9 variables:\n",
      " $ holiday            : Factor w/ 12 levels \"Christmas Day\",..: 8 8 8 8 8 8 8 8 8 8 ...\n",
      " $ temp               : num  288 289 290 290 291 ...\n",
      " $ rain_1h            : num  0 0 0 0 0 0 0 0 0 0 ...\n",
      " $ snow_1h            : num  0 0 0 0 0 0 0 0 0 0 ...\n",
      " $ clouds_all         : int  40 75 90 90 75 1 1 1 20 20 ...\n",
      " $ weather_main       : Factor w/ 11 levels \"Clear\",\"Clouds\",..: 2 2 2 2 2 1 1 1 2 2 ...\n",
      " $ weather_description: Factor w/ 38 levels \"broken clouds\",..: 23 1 18 18 1 26 26 26 3 3 ...\n",
      " $ date_time          : Factor w/ 40575 levels \"2012-10-02 09:00:00\",..: 1 2 3 4 5 6 7 8 9 10 ...\n",
      " $ traffic_volume     : int  5545 4516 4767 5026 4918 5181 5584 6015 5791 4770 ...\n"
     ]
    }
   ],
   "source": [
    "str(data)"
   ]
  },
  {
   "cell_type": "markdown",
   "metadata": {},
   "source": [
    "Our data compose of 9 variables. 4 of them are factorized."
   ]
  },
  {
   "cell_type": "code",
   "execution_count": 128,
   "metadata": {},
   "outputs": [],
   "source": [
    "dataxts <- xts(data$traffic_volume, order.by=as.POSIXct(data$date_time))"
   ]
  },
  {
   "cell_type": "markdown",
   "metadata": {},
   "source": [
    "I created a xts object in order to get a better plot."
   ]
  },
  {
   "cell_type": "code",
   "execution_count": 137,
   "metadata": {},
   "outputs": [
    {
     "data": {
      "image/png": "[encoded data removed]",
      "text/plain": [
       "plot without title"
      ]
     },
     "metadata": {},
     "output_type": "display_data"
    }
   ],
   "source": [
    "autoplot(dataxts, main= \"Traffic Volume\")"
   ]
  },
  {
   "cell_type": "markdown",
   "metadata": {},
   "source": [
    "                                         Figure 1: Traffic Volume Across 2012-2018"
   ]
  },
  {
   "cell_type": "code",
   "execution_count": 52,
   "metadata": {
    "scrolled": true
   },
   "outputs": [
    {
     "data": {
      "text/html": [
       "<table>\n",
       "<thead><tr><th></th><th scope=col>holiday</th><th scope=col>temp</th><th scope=col>rain_1h</th><th scope=col>snow_1h</th><th scope=col>clouds_all</th><th scope=col>weather_main</th><th scope=col>weather_description</th><th scope=col>date_time</th><th scope=col>traffic_volume</th></tr></thead>\n",
       "<tbody>\n",
       "\t<tr><th scope=row>15971</th><td>None               </td><td>292.380            </td><td>0                  </td><td>0                  </td><td> 1                 </td><td>Clear              </td><td>sky is clear       </td><td>2014-08-08 01:00:00</td><td> 516               </td></tr>\n",
       "\t<tr><th scope=row>15972</th><td>None               </td><td>287.586            </td><td>0                  </td><td>0                  </td><td>92                 </td><td>Rain               </td><td>light rain         </td><td>2015-06-11 20:00:00</td><td>2886               </td></tr>\n",
       "\t<tr><th scope=row>15973</th><td>None               </td><td>297.543            </td><td>0                  </td><td>0                  </td><td> 0                 </td><td>Clear              </td><td>Sky is Clear       </td><td>2015-06-12 18:00:00</td><td>4380               </td></tr>\n",
       "</tbody>\n",
       "</table>\n"
      ],
      "text/latex": [
       "\\begin{tabular}{r|lllllllll}\n",
       "  & holiday & temp & rain\\_1h & snow\\_1h & clouds\\_all & weather\\_main & weather\\_description & date\\_time & traffic\\_volume\\\\\n",
       "\\hline\n",
       "\t15971 & None                & 292.380             & 0                   & 0                   &  1                  & Clear               & sky is clear        & 2014-08-08 01:00:00 &  516               \\\\\n",
       "\t15972 & None                & 287.586             & 0                   & 0                   & 92                  & Rain                & light rain          & 2015-06-11 20:00:00 & 2886               \\\\\n",
       "\t15973 & None                & 297.543             & 0                   & 0                   &  0                  & Clear               & Sky is Clear        & 2015-06-12 18:00:00 & 4380               \\\\\n",
       "\\end{tabular}\n"
      ],
      "text/markdown": [
       "\n",
       "| <!--/--> | holiday | temp | rain_1h | snow_1h | clouds_all | weather_main | weather_description | date_time | traffic_volume |\n",
       "|---|---|---|---|---|---|---|---|---|---|\n",
       "| 15971 | None                | 292.380             | 0                   | 0                   |  1                  | Clear               | sky is clear        | 2014-08-08 01:00:00 |  516                |\n",
       "| 15972 | None                | 287.586             | 0                   | 0                   | 92                  | Rain                | light rain          | 2015-06-11 20:00:00 | 2886                |\n",
       "| 15973 | None                | 297.543             | 0                   | 0                   |  0                  | Clear               | Sky is Clear        | 2015-06-12 18:00:00 | 4380                |\n",
       "\n"
      ],
      "text/plain": [
       "      holiday temp    rain_1h snow_1h clouds_all weather_main\n",
       "15971 None    292.380 0       0        1         Clear       \n",
       "15972 None    287.586 0       0       92         Rain        \n",
       "15973 None    297.543 0       0        0         Clear       \n",
       "      weather_description date_time           traffic_volume\n",
       "15971 sky is clear        2014-08-08 01:00:00  516          \n",
       "15972 light rain          2015-06-11 20:00:00 2886          \n",
       "15973 Sky is Clear        2015-06-12 18:00:00 4380          "
      ]
     },
     "metadata": {},
     "output_type": "display_data"
    }
   ],
   "source": [
    "data[c(15971:15973),]"
   ]
  },
  {
   "cell_type": "markdown",
   "metadata": {},
   "source": [
    "There is a huge data loss in the data. For the train part I will discard the data before the loss. We could use techniques to fill the data. However as we can see above, there is a 11 month data loss and filling the traffic volume with using mean, median or other techniques will result bias. In addition to that, it is impossible to fill the rain_1h, temp, snow_1h etc. Therefore, I will use the data after, 2015-06-11 20:00:00"
   ]
  },
  {
   "cell_type": "code",
   "execution_count": 139,
   "metadata": {},
   "outputs": [],
   "source": [
    "data=data[c(15972:48204),]"
   ]
  },
  {
   "cell_type": "markdown",
   "metadata": {},
   "source": [
    "Subsetting after the data loss."
   ]
  },
  {
   "cell_type": "code",
   "execution_count": 54,
   "metadata": {},
   "outputs": [
    {
     "data": {
      "text/html": [
       "<table>\n",
       "<thead><tr><th></th><th scope=col>holiday</th><th scope=col>temp</th><th scope=col>rain_1h</th><th scope=col>snow_1h</th><th scope=col>clouds_all</th><th scope=col>weather_main</th><th scope=col>weather_description</th><th scope=col>date_time</th><th scope=col>traffic_volume</th></tr></thead>\n",
       "<tbody>\n",
       "\t<tr><th scope=row>15972</th><td>None               </td><td>287.586            </td><td>0                  </td><td>0                  </td><td>92                 </td><td>Rain               </td><td>light rain         </td><td>2015-06-11 20:00:00</td><td>2886               </td></tr>\n",
       "\t<tr><th scope=row>15973</th><td>None               </td><td>297.543            </td><td>0                  </td><td>0                  </td><td> 0                 </td><td>Clear              </td><td>Sky is Clear       </td><td>2015-06-12 18:00:00</td><td>4380               </td></tr>\n",
       "\t<tr><th scope=row>15974</th><td>None               </td><td>292.061            </td><td>0                  </td><td>0                  </td><td> 8                 </td><td>Clear              </td><td>sky is clear       </td><td>2015-06-12 20:00:00</td><td>3095               </td></tr>\n",
       "\t<tr><th scope=row>15975</th><td>None               </td><td>292.061            </td><td>0                  </td><td>0                  </td><td> 8                 </td><td>Clear              </td><td>sky is clear       </td><td>2015-06-12 21:00:00</td><td>3299               </td></tr>\n",
       "\t<tr><th scope=row>15976</th><td>None               </td><td>294.840            </td><td>0                  </td><td>0                  </td><td>76                 </td><td>Clouds             </td><td>broken clouds      </td><td>2015-06-13 21:00:00</td><td>3040               </td></tr>\n",
       "\t<tr><th scope=row>15977</th><td>None               </td><td>293.137            </td><td>0                  </td><td>0                  </td><td>56                 </td><td>Clouds             </td><td>broken clouds      </td><td>2015-06-13 23:00:00</td><td>2051               </td></tr>\n",
       "</tbody>\n",
       "</table>\n"
      ],
      "text/latex": [
       "\\begin{tabular}{r|lllllllll}\n",
       "  & holiday & temp & rain\\_1h & snow\\_1h & clouds\\_all & weather\\_main & weather\\_description & date\\_time & traffic\\_volume\\\\\n",
       "\\hline\n",
       "\t15972 & None                & 287.586             & 0                   & 0                   & 92                  & Rain                & light rain          & 2015-06-11 20:00:00 & 2886               \\\\\n",
       "\t15973 & None                & 297.543             & 0                   & 0                   &  0                  & Clear               & Sky is Clear        & 2015-06-12 18:00:00 & 4380               \\\\\n",
       "\t15974 & None                & 292.061             & 0                   & 0                   &  8                  & Clear               & sky is clear        & 2015-06-12 20:00:00 & 3095               \\\\\n",
       "\t15975 & None                & 292.061             & 0                   & 0                   &  8                  & Clear               & sky is clear        & 2015-06-12 21:00:00 & 3299               \\\\\n",
       "\t15976 & None                & 294.840             & 0                   & 0                   & 76                  & Clouds              & broken clouds       & 2015-06-13 21:00:00 & 3040               \\\\\n",
       "\t15977 & None                & 293.137             & 0                   & 0                   & 56                  & Clouds              & broken clouds       & 2015-06-13 23:00:00 & 2051               \\\\\n",
       "\\end{tabular}\n"
      ],
      "text/markdown": [
       "\n",
       "| <!--/--> | holiday | temp | rain_1h | snow_1h | clouds_all | weather_main | weather_description | date_time | traffic_volume |\n",
       "|---|---|---|---|---|---|---|---|---|---|\n",
       "| 15972 | None                | 287.586             | 0                   | 0                   | 92                  | Rain                | light rain          | 2015-06-11 20:00:00 | 2886                |\n",
       "| 15973 | None                | 297.543             | 0                   | 0                   |  0                  | Clear               | Sky is Clear        | 2015-06-12 18:00:00 | 4380                |\n",
       "| 15974 | None                | 292.061             | 0                   | 0                   |  8                  | Clear               | sky is clear        | 2015-06-12 20:00:00 | 3095                |\n",
       "| 15975 | None                | 292.061             | 0                   | 0                   |  8                  | Clear               | sky is clear        | 2015-06-12 21:00:00 | 3299                |\n",
       "| 15976 | None                | 294.840             | 0                   | 0                   | 76                  | Clouds              | broken clouds       | 2015-06-13 21:00:00 | 3040                |\n",
       "| 15977 | None                | 293.137             | 0                   | 0                   | 56                  | Clouds              | broken clouds       | 2015-06-13 23:00:00 | 2051                |\n",
       "\n"
      ],
      "text/plain": [
       "      holiday temp    rain_1h snow_1h clouds_all weather_main\n",
       "15972 None    287.586 0       0       92         Rain        \n",
       "15973 None    297.543 0       0        0         Clear       \n",
       "15974 None    292.061 0       0        8         Clear       \n",
       "15975 None    292.061 0       0        8         Clear       \n",
       "15976 None    294.840 0       0       76         Clouds      \n",
       "15977 None    293.137 0       0       56         Clouds      \n",
       "      weather_description date_time           traffic_volume\n",
       "15972 light rain          2015-06-11 20:00:00 2886          \n",
       "15973 Sky is Clear        2015-06-12 18:00:00 4380          \n",
       "15974 sky is clear        2015-06-12 20:00:00 3095          \n",
       "15975 sky is clear        2015-06-12 21:00:00 3299          \n",
       "15976 broken clouds       2015-06-13 21:00:00 3040          \n",
       "15977 broken clouds       2015-06-13 23:00:00 2051          "
      ]
     },
     "metadata": {},
     "output_type": "display_data"
    }
   ],
   "source": [
    "head(data)"
   ]
  },
  {
   "cell_type": "code",
   "execution_count": 140,
   "metadata": {},
   "outputs": [
    {
     "data": {
      "image/png": "[encoded data removed]",
      "text/plain": [
       "plot without title"
      ]
     },
     "metadata": {},
     "output_type": "display_data"
    }
   ],
   "source": [
    "dataxts <- xts(data$traffic_volume, order.by=as.POSIXct(data$date_time))\n",
    "autoplot(dataxts, main=\"Traffic Volume\")"
   ]
  },
  {
   "cell_type": "markdown",
   "metadata": {},
   "source": [
    "                                        Figure 2: Traffic Volume Across 2015-2018"
   ]
  },
  {
   "cell_type": "markdown",
   "metadata": {},
   "source": [
    "New data looks better. Now, let's check other variables"
   ]
  },
  {
   "cell_type": "code",
   "execution_count": 56,
   "metadata": {},
   "outputs": [
    {
     "data": {
      "image/png": "[encoded data removed]",
      "text/plain": [
       "Plot with title \"Histogram of data$temp\""
      ]
     },
     "metadata": {},
     "output_type": "display_data"
    }
   ],
   "source": [
    "hist(data$temp)"
   ]
  },
  {
   "cell_type": "markdown",
   "metadata": {},
   "source": [
    "                                        Figure 3: Histogram of temperature data"
   ]
  },
  {
   "cell_type": "markdown",
   "metadata": {},
   "source": [
    "Histogram looks normal, there are no outliers."
   ]
  },
  {
   "cell_type": "code",
   "execution_count": 57,
   "metadata": {},
   "outputs": [
    {
     "data": {
      "image/png": "[encoded data removed]",
      "text/plain": [
       "Plot with title \"Histogram of data$rain_1h\""
      ]
     },
     "metadata": {},
     "output_type": "display_data"
    }
   ],
   "source": [
    "hist(data$rain_1h)"
   ]
  },
  {
   "cell_type": "markdown",
   "metadata": {},
   "source": [
    "                                           Figure 4: Histogram of Rain Data"
   ]
  },
  {
   "cell_type": "markdown",
   "metadata": {},
   "source": [
    "Histogram suggests that there is a outlier in data, most of the data is highly skewed near 0. Also, there is a data between 8000-10000. Lets find it."
   ]
  },
  {
   "cell_type": "code",
   "execution_count": 58,
   "metadata": {
    "scrolled": false
   },
   "outputs": [
    {
     "data": {
      "image/png": "[encoded data removed]",
      "text/plain": [
       "plot without title"
      ]
     },
     "metadata": {},
     "output_type": "display_data"
    }
   ],
   "source": [
    "boxplot(data$rain_1h)"
   ]
  },
  {
   "cell_type": "markdown",
   "metadata": {},
   "source": [
    "                                         Figure 5: Boxplot of Rain Data"
   ]
  },
  {
   "cell_type": "markdown",
   "metadata": {},
   "source": [
    "Boxplot confirms our hypothesis there is a outlier in rain data."
   ]
  },
  {
   "cell_type": "code",
   "execution_count": 5,
   "metadata": {},
   "outputs": [
    {
     "data": {
      "text/html": [
       "<table>\n",
       "<thead><tr><th></th><th scope=col>holiday</th><th scope=col>temp</th><th scope=col>rain_1h</th><th scope=col>snow_1h</th><th scope=col>clouds_all</th><th scope=col>weather_main</th><th scope=col>weather_description</th><th scope=col>date_time</th><th scope=col>traffic_volume</th></tr></thead>\n",
       "<tbody>\n",
       "\t<tr><th scope=row>24873</th><td>None               </td><td>302.11             </td><td>9831.3             </td><td>0                  </td><td>75                 </td><td>Rain               </td><td>very heavy rain    </td><td>2016-07-11 17:00:00</td><td>5535               </td></tr>\n",
       "</tbody>\n",
       "</table>\n"
      ],
      "text/latex": [
       "\\begin{tabular}{r|lllllllll}\n",
       "  & holiday & temp & rain\\_1h & snow\\_1h & clouds\\_all & weather\\_main & weather\\_description & date\\_time & traffic\\_volume\\\\\n",
       "\\hline\n",
       "\t24873 & None                & 302.11              & 9831.3              & 0                   & 75                  & Rain                & very heavy rain     & 2016-07-11 17:00:00 & 5535               \\\\\n",
       "\\end{tabular}\n"
      ],
      "text/markdown": [
       "\n",
       "| <!--/--> | holiday | temp | rain_1h | snow_1h | clouds_all | weather_main | weather_description | date_time | traffic_volume |\n",
       "|---|---|---|---|---|---|---|---|---|---|\n",
       "| 24873 | None                | 302.11              | 9831.3              | 0                   | 75                  | Rain                | very heavy rain     | 2016-07-11 17:00:00 | 5535                |\n",
       "\n"
      ],
      "text/plain": [
       "      holiday temp   rain_1h snow_1h clouds_all weather_main\n",
       "24873 None    302.11 9831.3  0       75         Rain        \n",
       "      weather_description date_time           traffic_volume\n",
       "24873 very heavy rain     2016-07-11 17:00:00 5535          "
      ]
     },
     "metadata": {},
     "output_type": "display_data"
    },
    {
     "data": {
      "text/html": [
       "<table>\n",
       "<thead><tr><th></th><th scope=col>holiday</th><th scope=col>temp</th><th scope=col>rain_1h</th><th scope=col>snow_1h</th><th scope=col>clouds_all</th><th scope=col>weather_main</th><th scope=col>weather_description</th><th scope=col>date_time</th><th scope=col>traffic_volume</th></tr></thead>\n",
       "<tbody>\n",
       "\t<tr><th scope=row>16301</th><td>None               </td><td>294.87             </td><td>  23.80            </td><td>0                  </td><td>90                 </td><td>Rain               </td><td>very heavy rain    </td><td>2015-07-06 03:00:00</td><td> 346               </td></tr>\n",
       "\t<tr><th scope=row>16505</th><td>None               </td><td>292.02             </td><td>  27.57            </td><td>0                  </td><td>90                 </td><td>Rain               </td><td>very heavy rain    </td><td>2015-07-13 00:00:00</td><td> 492               </td></tr>\n",
       "\t<tr><th scope=row>16924</th><td>None               </td><td>295.12             </td><td>  20.24            </td><td>0                  </td><td>90                 </td><td>Rain               </td><td>very heavy rain    </td><td>2015-07-28 07:00:00</td><td>4302               </td></tr>\n",
       "\t<tr><th scope=row>17438</th><td>None               </td><td>294.49             </td><td>  25.46            </td><td>0                  </td><td>90                 </td><td>Rain               </td><td>very heavy rain    </td><td>2015-08-16 21:00:00</td><td>2118               </td></tr>\n",
       "\t<tr><th scope=row>24873</th><td>None               </td><td>302.11             </td><td>9831.30            </td><td>0                  </td><td>75                 </td><td>Rain               </td><td>very heavy rain    </td><td>2016-07-11 17:00:00</td><td>5535               </td></tr>\n",
       "\t<tr><th scope=row>25482</th><td>None               </td><td>294.92             </td><td>  16.51            </td><td>0                  </td><td>32                 </td><td>Rain               </td><td>very heavy rain    </td><td>2016-08-04 07:00:00</td><td>5724               </td></tr>\n",
       "\t<tr><th scope=row>25640</th><td>None               </td><td>292.70             </td><td>  18.42            </td><td>0                  </td><td>80                 </td><td>Rain               </td><td>very heavy rain    </td><td>2016-08-10 21:00:00</td><td>1904               </td></tr>\n",
       "\t<tr><th scope=row>25780</th><td>None               </td><td>297.71             </td><td>  31.75            </td><td>0                  </td><td> 0                 </td><td>Rain               </td><td>very heavy rain    </td><td>2016-08-16 17:00:00</td><td>4913               </td></tr>\n",
       "\t<tr><th scope=row>25962</th><td>None               </td><td>294.07             </td><td>  20.07            </td><td>0                  </td><td>40                 </td><td>Rain               </td><td>very heavy rain    </td><td>2016-08-23 22:00:00</td><td>1520               </td></tr>\n",
       "</tbody>\n",
       "</table>\n"
      ],
      "text/latex": [
       "\\begin{tabular}{r|lllllllll}\n",
       "  & holiday & temp & rain\\_1h & snow\\_1h & clouds\\_all & weather\\_main & weather\\_description & date\\_time & traffic\\_volume\\\\\n",
       "\\hline\n",
       "\t16301 & None                & 294.87              &   23.80             & 0                   & 90                  & Rain                & very heavy rain     & 2015-07-06 03:00:00 &  346               \\\\\n",
       "\t16505 & None                & 292.02              &   27.57             & 0                   & 90                  & Rain                & very heavy rain     & 2015-07-13 00:00:00 &  492               \\\\\n",
       "\t16924 & None                & 295.12              &   20.24             & 0                   & 90                  & Rain                & very heavy rain     & 2015-07-28 07:00:00 & 4302               \\\\\n",
       "\t17438 & None                & 294.49              &   25.46             & 0                   & 90                  & Rain                & very heavy rain     & 2015-08-16 21:00:00 & 2118               \\\\\n",
       "\t24873 & None                & 302.11              & 9831.30             & 0                   & 75                  & Rain                & very heavy rain     & 2016-07-11 17:00:00 & 5535               \\\\\n",
       "\t25482 & None                & 294.92              &   16.51             & 0                   & 32                  & Rain                & very heavy rain     & 2016-08-04 07:00:00 & 5724               \\\\\n",
       "\t25640 & None                & 292.70              &   18.42             & 0                   & 80                  & Rain                & very heavy rain     & 2016-08-10 21:00:00 & 1904               \\\\\n",
       "\t25780 & None                & 297.71              &   31.75             & 0                   &  0                  & Rain                & very heavy rain     & 2016-08-16 17:00:00 & 4913               \\\\\n",
       "\t25962 & None                & 294.07              &   20.07             & 0                   & 40                  & Rain                & very heavy rain     & 2016-08-23 22:00:00 & 1520               \\\\\n",
       "\\end{tabular}\n"
      ],
      "text/markdown": [
       "\n",
       "| <!--/--> | holiday | temp | rain_1h | snow_1h | clouds_all | weather_main | weather_description | date_time | traffic_volume |\n",
       "|---|---|---|---|---|---|---|---|---|---|\n",
       "| 16301 | None                | 294.87              |   23.80             | 0                   | 90                  | Rain                | very heavy rain     | 2015-07-06 03:00:00 |  346                |\n",
       "| 16505 | None                | 292.02              |   27.57             | 0                   | 90                  | Rain                | very heavy rain     | 2015-07-13 00:00:00 |  492                |\n",
       "| 16924 | None                | 295.12              |   20.24             | 0                   | 90                  | Rain                | very heavy rain     | 2015-07-28 07:00:00 | 4302                |\n",
       "| 17438 | None                | 294.49              |   25.46             | 0                   | 90                  | Rain                | very heavy rain     | 2015-08-16 21:00:00 | 2118                |\n",
       "| 24873 | None                | 302.11              | 9831.30             | 0                   | 75                  | Rain                | very heavy rain     | 2016-07-11 17:00:00 | 5535                |\n",
       "| 25482 | None                | 294.92              |   16.51             | 0                   | 32                  | Rain                | very heavy rain     | 2016-08-04 07:00:00 | 5724                |\n",
       "| 25640 | None                | 292.70              |   18.42             | 0                   | 80                  | Rain                | very heavy rain     | 2016-08-10 21:00:00 | 1904                |\n",
       "| 25780 | None                | 297.71              |   31.75             | 0                   |  0                  | Rain                | very heavy rain     | 2016-08-16 17:00:00 | 4913                |\n",
       "| 25962 | None                | 294.07              |   20.07             | 0                   | 40                  | Rain                | very heavy rain     | 2016-08-23 22:00:00 | 1520                |\n",
       "\n"
      ],
      "text/plain": [
       "      holiday temp   rain_1h snow_1h clouds_all weather_main\n",
       "16301 None    294.87   23.80 0       90         Rain        \n",
       "16505 None    292.02   27.57 0       90         Rain        \n",
       "16924 None    295.12   20.24 0       90         Rain        \n",
       "17438 None    294.49   25.46 0       90         Rain        \n",
       "24873 None    302.11 9831.30 0       75         Rain        \n",
       "25482 None    294.92   16.51 0       32         Rain        \n",
       "25640 None    292.70   18.42 0       80         Rain        \n",
       "25780 None    297.71   31.75 0        0         Rain        \n",
       "25962 None    294.07   20.07 0       40         Rain        \n",
       "      weather_description date_time           traffic_volume\n",
       "16301 very heavy rain     2015-07-06 03:00:00  346          \n",
       "16505 very heavy rain     2015-07-13 00:00:00  492          \n",
       "16924 very heavy rain     2015-07-28 07:00:00 4302          \n",
       "17438 very heavy rain     2015-08-16 21:00:00 2118          \n",
       "24873 very heavy rain     2016-07-11 17:00:00 5535          \n",
       "25482 very heavy rain     2016-08-04 07:00:00 5724          \n",
       "25640 very heavy rain     2016-08-10 21:00:00 1904          \n",
       "25780 very heavy rain     2016-08-16 17:00:00 4913          \n",
       "25962 very heavy rain     2016-08-23 22:00:00 1520          "
      ]
     },
     "metadata": {},
     "output_type": "display_data"
    }
   ],
   "source": [
    "data[data$rain_1h>50,]\n",
    "data[data$weather_description==\"very heavy rain\",]"
   ]
  },
  {
   "cell_type": "markdown",
   "metadata": {},
   "source": [
    "We will change the outlier with the mean of the rest \"very heavy rain\"."
   ]
  },
  {
   "cell_type": "code",
   "execution_count": 55,
   "metadata": {
    "scrolled": true
   },
   "outputs": [],
   "source": [
    "data[data$weather_description==\"very heavy rain\"&data$rain_1h>100,]$rain_1h=mean(data[data$weather_description==\"very heavy rain\"&data$rain_1h<100,]$rain_1h)"
   ]
  },
  {
   "cell_type": "code",
   "execution_count": 61,
   "metadata": {},
   "outputs": [
    {
     "data": {
      "text/html": [
       "<table>\n",
       "<thead><tr><th></th><th scope=col>holiday</th><th scope=col>temp</th><th scope=col>rain_1h</th><th scope=col>snow_1h</th><th scope=col>clouds_all</th><th scope=col>weather_main</th><th scope=col>weather_description</th><th scope=col>date_time</th><th scope=col>traffic_volume</th></tr></thead>\n",
       "<tbody>\n",
       "\t<tr><th scope=row>16301</th><td>None               </td><td>294.87             </td><td>23.8000            </td><td>0                  </td><td>90                 </td><td>Rain               </td><td>very heavy rain    </td><td>2015-07-06 03:00:00</td><td> 346               </td></tr>\n",
       "\t<tr><th scope=row>16505</th><td>None               </td><td>292.02             </td><td>27.5700            </td><td>0                  </td><td>90                 </td><td>Rain               </td><td>very heavy rain    </td><td>2015-07-13 00:00:00</td><td> 492               </td></tr>\n",
       "\t<tr><th scope=row>16924</th><td>None               </td><td>295.12             </td><td>20.2400            </td><td>0                  </td><td>90                 </td><td>Rain               </td><td>very heavy rain    </td><td>2015-07-28 07:00:00</td><td>4302               </td></tr>\n",
       "\t<tr><th scope=row>17438</th><td>None               </td><td>294.49             </td><td>25.4600            </td><td>0                  </td><td>90                 </td><td>Rain               </td><td>very heavy rain    </td><td>2015-08-16 21:00:00</td><td>2118               </td></tr>\n",
       "\t<tr><th scope=row>24873</th><td>None               </td><td>302.11             </td><td>22.9775            </td><td>0                  </td><td>75                 </td><td>Rain               </td><td>very heavy rain    </td><td>2016-07-11 17:00:00</td><td>5535               </td></tr>\n",
       "\t<tr><th scope=row>25482</th><td>None               </td><td>294.92             </td><td>16.5100            </td><td>0                  </td><td>32                 </td><td>Rain               </td><td>very heavy rain    </td><td>2016-08-04 07:00:00</td><td>5724               </td></tr>\n",
       "\t<tr><th scope=row>25640</th><td>None               </td><td>292.70             </td><td>18.4200            </td><td>0                  </td><td>80                 </td><td>Rain               </td><td>very heavy rain    </td><td>2016-08-10 21:00:00</td><td>1904               </td></tr>\n",
       "\t<tr><th scope=row>25780</th><td>None               </td><td>297.71             </td><td>31.7500            </td><td>0                  </td><td> 0                 </td><td>Rain               </td><td>very heavy rain    </td><td>2016-08-16 17:00:00</td><td>4913               </td></tr>\n",
       "\t<tr><th scope=row>25962</th><td>None               </td><td>294.07             </td><td>20.0700            </td><td>0                  </td><td>40                 </td><td>Rain               </td><td>very heavy rain    </td><td>2016-08-23 22:00:00</td><td>1520               </td></tr>\n",
       "</tbody>\n",
       "</table>\n"
      ],
      "text/latex": [
       "\\begin{tabular}{r|lllllllll}\n",
       "  & holiday & temp & rain\\_1h & snow\\_1h & clouds\\_all & weather\\_main & weather\\_description & date\\_time & traffic\\_volume\\\\\n",
       "\\hline\n",
       "\t16301 & None                & 294.87              & 23.8000             & 0                   & 90                  & Rain                & very heavy rain     & 2015-07-06 03:00:00 &  346               \\\\\n",
       "\t16505 & None                & 292.02              & 27.5700             & 0                   & 90                  & Rain                & very heavy rain     & 2015-07-13 00:00:00 &  492               \\\\\n",
       "\t16924 & None                & 295.12              & 20.2400             & 0                   & 90                  & Rain                & very heavy rain     & 2015-07-28 07:00:00 & 4302               \\\\\n",
       "\t17438 & None                & 294.49              & 25.4600             & 0                   & 90                  & Rain                & very heavy rain     & 2015-08-16 21:00:00 & 2118               \\\\\n",
       "\t24873 & None                & 302.11              & 22.9775             & 0                   & 75                  & Rain                & very heavy rain     & 2016-07-11 17:00:00 & 5535               \\\\\n",
       "\t25482 & None                & 294.92              & 16.5100             & 0                   & 32                  & Rain                & very heavy rain     & 2016-08-04 07:00:00 & 5724               \\\\\n",
       "\t25640 & None                & 292.70              & 18.4200             & 0                   & 80                  & Rain                & very heavy rain     & 2016-08-10 21:00:00 & 1904               \\\\\n",
       "\t25780 & None                & 297.71              & 31.7500             & 0                   &  0                  & Rain                & very heavy rain     & 2016-08-16 17:00:00 & 4913               \\\\\n",
       "\t25962 & None                & 294.07              & 20.0700             & 0                   & 40                  & Rain                & very heavy rain     & 2016-08-23 22:00:00 & 1520               \\\\\n",
       "\\end{tabular}\n"
      ],
      "text/markdown": [
       "\n",
       "| <!--/--> | holiday | temp | rain_1h | snow_1h | clouds_all | weather_main | weather_description | date_time | traffic_volume |\n",
       "|---|---|---|---|---|---|---|---|---|---|\n",
       "| 16301 | None                | 294.87              | 23.8000             | 0                   | 90                  | Rain                | very heavy rain     | 2015-07-06 03:00:00 |  346                |\n",
       "| 16505 | None                | 292.02              | 27.5700             | 0                   | 90                  | Rain                | very heavy rain     | 2015-07-13 00:00:00 |  492                |\n",
       "| 16924 | None                | 295.12              | 20.2400             | 0                   | 90                  | Rain                | very heavy rain     | 2015-07-28 07:00:00 | 4302                |\n",
       "| 17438 | None                | 294.49              | 25.4600             | 0                   | 90                  | Rain                | very heavy rain     | 2015-08-16 21:00:00 | 2118                |\n",
       "| 24873 | None                | 302.11              | 22.9775             | 0                   | 75                  | Rain                | very heavy rain     | 2016-07-11 17:00:00 | 5535                |\n",
       "| 25482 | None                | 294.92              | 16.5100             | 0                   | 32                  | Rain                | very heavy rain     | 2016-08-04 07:00:00 | 5724                |\n",
       "| 25640 | None                | 292.70              | 18.4200             | 0                   | 80                  | Rain                | very heavy rain     | 2016-08-10 21:00:00 | 1904                |\n",
       "| 25780 | None                | 297.71              | 31.7500             | 0                   |  0                  | Rain                | very heavy rain     | 2016-08-16 17:00:00 | 4913                |\n",
       "| 25962 | None                | 294.07              | 20.0700             | 0                   | 40                  | Rain                | very heavy rain     | 2016-08-23 22:00:00 | 1520                |\n",
       "\n"
      ],
      "text/plain": [
       "      holiday temp   rain_1h snow_1h clouds_all weather_main\n",
       "16301 None    294.87 23.8000 0       90         Rain        \n",
       "16505 None    292.02 27.5700 0       90         Rain        \n",
       "16924 None    295.12 20.2400 0       90         Rain        \n",
       "17438 None    294.49 25.4600 0       90         Rain        \n",
       "24873 None    302.11 22.9775 0       75         Rain        \n",
       "25482 None    294.92 16.5100 0       32         Rain        \n",
       "25640 None    292.70 18.4200 0       80         Rain        \n",
       "25780 None    297.71 31.7500 0        0         Rain        \n",
       "25962 None    294.07 20.0700 0       40         Rain        \n",
       "      weather_description date_time           traffic_volume\n",
       "16301 very heavy rain     2015-07-06 03:00:00  346          \n",
       "16505 very heavy rain     2015-07-13 00:00:00  492          \n",
       "16924 very heavy rain     2015-07-28 07:00:00 4302          \n",
       "17438 very heavy rain     2015-08-16 21:00:00 2118          \n",
       "24873 very heavy rain     2016-07-11 17:00:00 5535          \n",
       "25482 very heavy rain     2016-08-04 07:00:00 5724          \n",
       "25640 very heavy rain     2016-08-10 21:00:00 1904          \n",
       "25780 very heavy rain     2016-08-16 17:00:00 4913          \n",
       "25962 very heavy rain     2016-08-23 22:00:00 1520          "
      ]
     },
     "metadata": {},
     "output_type": "display_data"
    }
   ],
   "source": [
    "data[data$weather_description==\"very heavy rain\",]"
   ]
  },
  {
   "cell_type": "markdown",
   "metadata": {},
   "source": [
    "We changed it succesfully."
   ]
  },
  {
   "cell_type": "code",
   "execution_count": 62,
   "metadata": {},
   "outputs": [
    {
     "data": {
      "image/png": "[encoded data removed]",
      "text/plain": [
       "Plot with title \"Histogram of data$rain_1h\""
      ]
     },
     "metadata": {},
     "output_type": "display_data"
    }
   ],
   "source": [
    "hist(data$rain_1h)"
   ]
  },
  {
   "cell_type": "markdown",
   "metadata": {},
   "source": [
    "                                        Figure 6: Histogram of corrected Rain Data"
   ]
  },
  {
   "cell_type": "markdown",
   "metadata": {},
   "source": [
    "Again highly skewed, however we got rid of outlier."
   ]
  },
  {
   "cell_type": "code",
   "execution_count": 63,
   "metadata": {},
   "outputs": [
    {
     "data": {
      "image/png": "[encoded data removed]",
      "text/plain": [
       "Plot with title \"Histogram of data$snow_1h\""
      ]
     },
     "metadata": {},
     "output_type": "display_data"
    }
   ],
   "source": [
    "hist(data$snow_1h)"
   ]
  },
  {
   "cell_type": "markdown",
   "metadata": {},
   "source": [
    "                                        Figure 7: Histogram of Snow Data"
   ]
  },
  {
   "cell_type": "code",
   "execution_count": 64,
   "metadata": {},
   "outputs": [
    {
     "data": {
      "image/png": "[encoded data removed]",
      "text/plain": [
       "Plot with title \"Histogram of data$clouds_all\""
      ]
     },
     "metadata": {},
     "output_type": "display_data"
    }
   ],
   "source": [
    "hist(data$clouds_all)"
   ]
  },
  {
   "cell_type": "markdown",
   "metadata": {},
   "source": [
    "                                       Figure 8: Histogram of Clouds Data"
   ]
  },
  {
   "cell_type": "markdown",
   "metadata": {},
   "source": [
    "Now, I will analyse factorized data the get rid of unbalances if there is any."
   ]
  },
  {
   "cell_type": "code",
   "execution_count": 65,
   "metadata": {},
   "outputs": [
    {
     "data": {
      "text/plain": [
       "\n",
       "            Christmas Day              Columbus Day          Independence Day \n",
       "                        4                         3                         4 \n",
       "                Labor Day Martin Luther King Jr Day              Memorial Day \n",
       "                        6                         5                         3 \n",
       "            New Years Day                      None                State Fair \n",
       "                        4                     32190                         4 \n",
       "         Thanksgiving Day              Veterans Day      Washingtons Birthday \n",
       "                        4                         3                         3 "
      ]
     },
     "metadata": {},
     "output_type": "display_data"
    }
   ],
   "source": [
    "table(data$holiday)"
   ]
  },
  {
   "cell_type": "markdown",
   "metadata": {},
   "source": [
    "We can see that, None factor has the huge percent of the data. Lets change this columns as Holiday or None-Holiday."
   ]
  },
  {
   "cell_type": "code",
   "execution_count": 56,
   "metadata": {},
   "outputs": [],
   "source": [
    "levels(data$holiday)[levels(data$holiday)!=\"None\"] <- \"Holiday\""
   ]
  },
  {
   "cell_type": "code",
   "execution_count": 67,
   "metadata": {},
   "outputs": [
    {
     "data": {
      "text/plain": [
       "\n",
       "Holiday    None \n",
       "     43   32190 "
      ]
     },
     "metadata": {},
     "output_type": "display_data"
    }
   ],
   "source": [
    "table(data$holiday)"
   ]
  },
  {
   "cell_type": "markdown",
   "metadata": {},
   "source": [
    "Hopefully, this will give us better results in forecast."
   ]
  },
  {
   "cell_type": "code",
   "execution_count": 68,
   "metadata": {},
   "outputs": [
    {
     "data": {
      "text/plain": [
       "\n",
       "       Clear       Clouds      Drizzle          Fog         Haze         Mist \n",
       "        9656         8594         1454          699          993         4191 \n",
       "        Rain        Smoke         Snow       Squall Thunderstorm \n",
       "        3853           20         1926            1          846 "
      ]
     },
     "metadata": {},
     "output_type": "display_data"
    }
   ],
   "source": [
    "table(data$weather_main)"
   ]
  },
  {
   "cell_type": "code",
   "execution_count": 69,
   "metadata": {},
   "outputs": [
    {
     "data": {
      "text/plain": [
       "\n",
       "                      broken clouds                             drizzle \n",
       "                               2402                                 539 \n",
       "                         few clouds                                 fog \n",
       "                               1037                                 699 \n",
       "                      freezing rain                                haze \n",
       "                                  1                                 993 \n",
       "            heavy intensity drizzle                heavy intensity rain \n",
       "                                 53                                 360 \n",
       "                         heavy snow             light intensity drizzle \n",
       "                                 42                                 856 \n",
       "        light intensity shower rain                          light rain \n",
       "                                 11                                2099 \n",
       "                light rain and snow                   light shower snow \n",
       "                                  3                                  11 \n",
       "                         light snow                                mist \n",
       "                               1669                                4191 \n",
       "                      moderate rain                     overcast clouds \n",
       "                               1240                                2754 \n",
       "              proximity shower rain              proximity thunderstorm \n",
       "                                133                                 568 \n",
       "proximity thunderstorm with drizzle    proximity thunderstorm with rain \n",
       "                                 11                                  42 \n",
       "                   scattered clouds                      shower drizzle \n",
       "                               2401                                   6 \n",
       "                        shower snow                        sky is clear \n",
       "                                  0                                8724 \n",
       "                       Sky is Clear                               sleet \n",
       "                                932                                   3 \n",
       "                              smoke                                snow \n",
       "                                 20                                 198 \n",
       "                            SQUALLS                        thunderstorm \n",
       "                                  1                                 106 \n",
       "          thunderstorm with drizzle        thunderstorm with heavy rain \n",
       "                                  1                                  41 \n",
       "    thunderstorm with light drizzle        thunderstorm with light rain \n",
       "                                 14                                  35 \n",
       "             thunderstorm with rain                     very heavy rain \n",
       "                                 28                                   9 "
      ]
     },
     "metadata": {},
     "output_type": "display_data"
    }
   ],
   "source": [
    "table(data$weather_description)"
   ]
  },
  {
   "cell_type": "markdown",
   "metadata": {},
   "source": [
    "There is too much detail in weather description and I will not use it in my forecasts. Since it is impossible to forecast next 24 hours weather description, just using this data. I will drop it. Same holds for weather_main, however I want to see if it has significant effect on regression."
   ]
  },
  {
   "cell_type": "code",
   "execution_count": 57,
   "metadata": {},
   "outputs": [],
   "source": [
    "data = subset(data, select = -c(weather_description) )"
   ]
  },
  {
   "cell_type": "code",
   "execution_count": 71,
   "metadata": {},
   "outputs": [
    {
     "data": {
      "text/html": [
       "<table>\n",
       "<thead><tr><th></th><th scope=col>traffic_volume</th><th scope=col>temp</th><th scope=col>rain_1h</th><th scope=col>snow_1h</th></tr></thead>\n",
       "<tbody>\n",
       "\t<tr><th scope=row>traffic_volume</th><td> 1.0000000000</td><td> 0.12475003  </td><td>-0.024881270 </td><td> 0.0009318919</td></tr>\n",
       "\t<tr><th scope=row>temp</th><td> 0.1247500271</td><td> 1.00000000  </td><td> 0.099716897 </td><td>-0.0313993836</td></tr>\n",
       "\t<tr><th scope=row>rain_1h</th><td>-0.0248812696</td><td> 0.09971690  </td><td> 1.000000000 </td><td> 0.0025805523</td></tr>\n",
       "\t<tr><th scope=row>snow_1h</th><td> 0.0009318919</td><td>-0.03139938  </td><td> 0.002580552 </td><td> 1.0000000000</td></tr>\n",
       "</tbody>\n",
       "</table>\n"
      ],
      "text/latex": [
       "\\begin{tabular}{r|llll}\n",
       "  & traffic\\_volume & temp & rain\\_1h & snow\\_1h\\\\\n",
       "\\hline\n",
       "\ttraffic\\_volume &  1.0000000000 &  0.12475003   & -0.024881270  &  0.0009318919\\\\\n",
       "\ttemp &  0.1247500271 &  1.00000000   &  0.099716897  & -0.0313993836\\\\\n",
       "\train\\_1h & -0.0248812696 &  0.09971690   &  1.000000000  &  0.0025805523\\\\\n",
       "\tsnow\\_1h &  0.0009318919 & -0.03139938   &  0.002580552  &  1.0000000000\\\\\n",
       "\\end{tabular}\n"
      ],
      "text/markdown": [
       "\n",
       "| <!--/--> | traffic_volume | temp | rain_1h | snow_1h |\n",
       "|---|---|---|---|---|\n",
       "| traffic_volume |  1.0000000000 |  0.12475003   | -0.024881270  |  0.0009318919 |\n",
       "| temp |  0.1247500271 |  1.00000000   |  0.099716897  | -0.0313993836 |\n",
       "| rain_1h | -0.0248812696 |  0.09971690   |  1.000000000  |  0.0025805523 |\n",
       "| snow_1h |  0.0009318919 | -0.03139938   |  0.002580552  |  1.0000000000 |\n",
       "\n"
      ],
      "text/plain": [
       "               traffic_volume temp        rain_1h      snow_1h      \n",
       "traffic_volume  1.0000000000   0.12475003 -0.024881270  0.0009318919\n",
       "temp            0.1247500271   1.00000000  0.099716897 -0.0313993836\n",
       "rain_1h        -0.0248812696   0.09971690  1.000000000  0.0025805523\n",
       "snow_1h         0.0009318919  -0.03139938  0.002580552  1.0000000000"
      ]
     },
     "metadata": {},
     "output_type": "display_data"
    }
   ],
   "source": [
    "cor(data[,c(\"traffic_volume\",\"temp\",\"rain_1h\",\"snow_1h\")])"
   ]
  },
  {
   "cell_type": "markdown",
   "metadata": {},
   "source": [
    "Features are not correlated."
   ]
  },
  {
   "cell_type": "markdown",
   "metadata": {},
   "source": [
    "In order to look for seasonal effects on traffic_volume, lets split date time as Hour, weekday etc."
   ]
  },
  {
   "cell_type": "code",
   "execution_count": 58,
   "metadata": {},
   "outputs": [],
   "source": [
    "data$Hour<-substr(data$date_time,start=12,stop=13)\n",
    "data$day <- weekdays(as.Date(data$date_time))"
   ]
  },
  {
   "cell_type": "code",
   "execution_count": 73,
   "metadata": {},
   "outputs": [
    {
     "data": {
      "text/html": [
       "<table>\n",
       "<thead><tr><th></th><th scope=col>holiday</th><th scope=col>temp</th><th scope=col>rain_1h</th><th scope=col>snow_1h</th><th scope=col>clouds_all</th><th scope=col>weather_main</th><th scope=col>date_time</th><th scope=col>traffic_volume</th><th scope=col>Hour</th><th scope=col>day</th></tr></thead>\n",
       "<tbody>\n",
       "\t<tr><th scope=row>15972</th><td>None               </td><td>287.586            </td><td>0                  </td><td>0                  </td><td>92                 </td><td>Rain               </td><td>2015-06-11 20:00:00</td><td>2886               </td><td>20                 </td><td>Perşembe           </td></tr>\n",
       "\t<tr><th scope=row>15973</th><td>None               </td><td>297.543            </td><td>0                  </td><td>0                  </td><td> 0                 </td><td>Clear              </td><td>2015-06-12 18:00:00</td><td>4380               </td><td>18                 </td><td>Cuma               </td></tr>\n",
       "\t<tr><th scope=row>15974</th><td>None               </td><td>292.061            </td><td>0                  </td><td>0                  </td><td> 8                 </td><td>Clear              </td><td>2015-06-12 20:00:00</td><td>3095               </td><td>20                 </td><td>Cuma               </td></tr>\n",
       "\t<tr><th scope=row>15975</th><td>None               </td><td>292.061            </td><td>0                  </td><td>0                  </td><td> 8                 </td><td>Clear              </td><td>2015-06-12 21:00:00</td><td>3299               </td><td>21                 </td><td>Cuma               </td></tr>\n",
       "\t<tr><th scope=row>15976</th><td>None               </td><td>294.840            </td><td>0                  </td><td>0                  </td><td>76                 </td><td>Clouds             </td><td>2015-06-13 21:00:00</td><td>3040               </td><td>21                 </td><td>Cumartesi          </td></tr>\n",
       "\t<tr><th scope=row>15977</th><td>None               </td><td>293.137            </td><td>0                  </td><td>0                  </td><td>56                 </td><td>Clouds             </td><td>2015-06-13 23:00:00</td><td>2051               </td><td>23                 </td><td>Cumartesi          </td></tr>\n",
       "</tbody>\n",
       "</table>\n"
      ],
      "text/latex": [
       "\\begin{tabular}{r|llllllllll}\n",
       "  & holiday & temp & rain\\_1h & snow\\_1h & clouds\\_all & weather\\_main & date\\_time & traffic\\_volume & Hour & day\\\\\n",
       "\\hline\n",
       "\t15972 & None                & 287.586             & 0                   & 0                   & 92                  & Rain                & 2015-06-11 20:00:00 & 2886                & 20                  & Perşembe           \\\\\n",
       "\t15973 & None                & 297.543             & 0                   & 0                   &  0                  & Clear               & 2015-06-12 18:00:00 & 4380                & 18                  & Cuma               \\\\\n",
       "\t15974 & None                & 292.061             & 0                   & 0                   &  8                  & Clear               & 2015-06-12 20:00:00 & 3095                & 20                  & Cuma               \\\\\n",
       "\t15975 & None                & 292.061             & 0                   & 0                   &  8                  & Clear               & 2015-06-12 21:00:00 & 3299                & 21                  & Cuma               \\\\\n",
       "\t15976 & None                & 294.840             & 0                   & 0                   & 76                  & Clouds              & 2015-06-13 21:00:00 & 3040                & 21                  & Cumartesi          \\\\\n",
       "\t15977 & None                & 293.137             & 0                   & 0                   & 56                  & Clouds              & 2015-06-13 23:00:00 & 2051                & 23                  & Cumartesi          \\\\\n",
       "\\end{tabular}\n"
      ],
      "text/markdown": [
       "\n",
       "| <!--/--> | holiday | temp | rain_1h | snow_1h | clouds_all | weather_main | date_time | traffic_volume | Hour | day |\n",
       "|---|---|---|---|---|---|---|---|---|---|---|\n",
       "| 15972 | None                | 287.586             | 0                   | 0                   | 92                  | Rain                | 2015-06-11 20:00:00 | 2886                | 20                  | Perşembe            |\n",
       "| 15973 | None                | 297.543             | 0                   | 0                   |  0                  | Clear               | 2015-06-12 18:00:00 | 4380                | 18                  | Cuma                |\n",
       "| 15974 | None                | 292.061             | 0                   | 0                   |  8                  | Clear               | 2015-06-12 20:00:00 | 3095                | 20                  | Cuma                |\n",
       "| 15975 | None                | 292.061             | 0                   | 0                   |  8                  | Clear               | 2015-06-12 21:00:00 | 3299                | 21                  | Cuma                |\n",
       "| 15976 | None                | 294.840             | 0                   | 0                   | 76                  | Clouds              | 2015-06-13 21:00:00 | 3040                | 21                  | Cumartesi           |\n",
       "| 15977 | None                | 293.137             | 0                   | 0                   | 56                  | Clouds              | 2015-06-13 23:00:00 | 2051                | 23                  | Cumartesi           |\n",
       "\n"
      ],
      "text/plain": [
       "      holiday temp    rain_1h snow_1h clouds_all weather_main\n",
       "15972 None    287.586 0       0       92         Rain        \n",
       "15973 None    297.543 0       0        0         Clear       \n",
       "15974 None    292.061 0       0        8         Clear       \n",
       "15975 None    292.061 0       0        8         Clear       \n",
       "15976 None    294.840 0       0       76         Clouds      \n",
       "15977 None    293.137 0       0       56         Clouds      \n",
       "      date_time           traffic_volume Hour day      \n",
       "15972 2015-06-11 20:00:00 2886           20   Perşembe \n",
       "15973 2015-06-12 18:00:00 4380           18   Cuma     \n",
       "15974 2015-06-12 20:00:00 3095           20   Cuma     \n",
       "15975 2015-06-12 21:00:00 3299           21   Cuma     \n",
       "15976 2015-06-13 21:00:00 3040           21   Cumartesi\n",
       "15977 2015-06-13 23:00:00 2051           23   Cumartesi"
      ]
     },
     "metadata": {},
     "output_type": "display_data"
    }
   ],
   "source": [
    "head(data)"
   ]
  },
  {
   "cell_type": "code",
   "execution_count": 59,
   "metadata": {},
   "outputs": [],
   "source": [
    "data$Hour <- factor(data$Hour)\n",
    "data$day <- factor(data$day)"
   ]
  },
  {
   "cell_type": "markdown",
   "metadata": {},
   "source": [
    "We need to factorize newly created features."
   ]
  },
  {
   "cell_type": "code",
   "execution_count": 28,
   "metadata": {},
   "outputs": [
    {
     "name": "stdout",
     "output_type": "stream",
     "text": [
      "'data.frame':\t32233 obs. of  10 variables:\n",
      " $ holiday       : Factor w/ 2 levels \"Holiday\",\"None\": 2 2 2 2 2 2 2 2 2 2 ...\n",
      " $ temp          : num  288 298 292 292 295 ...\n",
      " $ rain_1h       : num  0 0 0 0 0 0 0 0 0 0 ...\n",
      " $ snow_1h       : num  0 0 0 0 0 0 0 0 0 0 ...\n",
      " $ clouds_all    : int  92 0 8 8 76 56 88 0 88 12 ...\n",
      " $ weather_main  : Factor w/ 11 levels \"Clear\",\"Clouds\",..: 7 1 1 1 2 2 7 1 7 2 ...\n",
      " $ date_time     : Factor w/ 40575 levels \"2012-10-02 09:00:00\",..: 13899 13900 13901 13902 13903 13904 13905 13906 13907 13908 ...\n",
      " $ traffic_volume: int  2886 4380 3095 3299 3040 2051 2909 4681 4045 742 ...\n",
      " $ Hour          : Factor w/ 24 levels \"00\",\"01\",\"02\",..: 21 19 21 22 22 24 21 19 19 1 ...\n",
      " $ day           : Factor w/ 7 levels \"Cuma\",\"Cumartesi\",..: 6 1 1 1 2 2 4 1 2 5 ...\n"
     ]
    }
   ],
   "source": [
    "str(data)"
   ]
  },
  {
   "cell_type": "markdown",
   "metadata": {},
   "source": [
    "# Regression"
   ]
  },
  {
   "cell_type": "code",
   "execution_count": 60,
   "metadata": {},
   "outputs": [],
   "source": [
    "rownames(data) <- 1:nrow(data)"
   ]
  },
  {
   "cell_type": "markdown",
   "metadata": {},
   "source": [
    "Reindexed the data."
   ]
  },
  {
   "cell_type": "code",
   "execution_count": 66,
   "metadata": {
    "scrolled": true
   },
   "outputs": [],
   "source": [
    "traindata <- data[c(1:24284),]\n",
    "testdata <- data[c(24285:32233),]"
   ]
  },
  {
   "cell_type": "markdown",
   "metadata": {},
   "source": [
    "Splitting the model to train/test. After 2018 is considered as test data."
   ]
  },
  {
   "cell_type": "code",
   "execution_count": 67,
   "metadata": {},
   "outputs": [],
   "source": [
    "traindatamodel1 <- subset(traindata, select=-c(date_time))"
   ]
  },
  {
   "cell_type": "markdown",
   "metadata": {},
   "source": [
    "I am dropping the date_time column since we have hour and day date for the seasonal effects."
   ]
  },
  {
   "cell_type": "code",
   "execution_count": 13,
   "metadata": {},
   "outputs": [],
   "source": [
    "testdata_X_model1 <- subset(testdata, select=-c(traffic_volume,date_time))\n",
    "testdata_Y_model1 <- testdata$traffic_volume"
   ]
  },
  {
   "cell_type": "code",
   "execution_count": 215,
   "metadata": {},
   "outputs": [
    {
     "data": {
      "text/html": [
       "<table>\n",
       "<thead><tr><th></th><th scope=col>holiday</th><th scope=col>temp</th><th scope=col>rain_1h</th><th scope=col>snow_1h</th><th scope=col>clouds_all</th><th scope=col>weather_main</th><th scope=col>Hour</th><th scope=col>day</th></tr></thead>\n",
       "<tbody>\n",
       "\t<tr><th scope=row>24285</th><td>Holiday  </td><td>249.36   </td><td>0        </td><td>0        </td><td>1        </td><td>Clear    </td><td>00       </td><td>Pazartesi</td></tr>\n",
       "\t<tr><th scope=row>24286</th><td>None     </td><td>249.08   </td><td>0        </td><td>0        </td><td>1        </td><td>Clear    </td><td>01       </td><td>Pazartesi</td></tr>\n",
       "\t<tr><th scope=row>24287</th><td>None     </td><td>248.86   </td><td>0        </td><td>0        </td><td>1        </td><td>Clear    </td><td>02       </td><td>Pazartesi</td></tr>\n",
       "\t<tr><th scope=row>24288</th><td>None     </td><td>248.72   </td><td>0        </td><td>0        </td><td>1        </td><td>Clear    </td><td>03       </td><td>Pazartesi</td></tr>\n",
       "\t<tr><th scope=row>24289</th><td>None     </td><td>248.43   </td><td>0        </td><td>0        </td><td>1        </td><td>Clear    </td><td>04       </td><td>Pazartesi</td></tr>\n",
       "\t<tr><th scope=row>24290</th><td>None     </td><td>248.07   </td><td>0        </td><td>0        </td><td>1        </td><td>Clear    </td><td>05       </td><td>Pazartesi</td></tr>\n",
       "</tbody>\n",
       "</table>\n"
      ],
      "text/latex": [
       "\\begin{tabular}{r|llllllll}\n",
       "  & holiday & temp & rain\\_1h & snow\\_1h & clouds\\_all & weather\\_main & Hour & day\\\\\n",
       "\\hline\n",
       "\t24285 & Holiday   & 249.36    & 0         & 0         & 1         & Clear     & 00        & Pazartesi\\\\\n",
       "\t24286 & None      & 249.08    & 0         & 0         & 1         & Clear     & 01        & Pazartesi\\\\\n",
       "\t24287 & None      & 248.86    & 0         & 0         & 1         & Clear     & 02        & Pazartesi\\\\\n",
       "\t24288 & None      & 248.72    & 0         & 0         & 1         & Clear     & 03        & Pazartesi\\\\\n",
       "\t24289 & None      & 248.43    & 0         & 0         & 1         & Clear     & 04        & Pazartesi\\\\\n",
       "\t24290 & None      & 248.07    & 0         & 0         & 1         & Clear     & 05        & Pazartesi\\\\\n",
       "\\end{tabular}\n"
      ],
      "text/markdown": [
       "\n",
       "| <!--/--> | holiday | temp | rain_1h | snow_1h | clouds_all | weather_main | Hour | day |\n",
       "|---|---|---|---|---|---|---|---|---|\n",
       "| 24285 | Holiday   | 249.36    | 0         | 0         | 1         | Clear     | 00        | Pazartesi |\n",
       "| 24286 | None      | 249.08    | 0         | 0         | 1         | Clear     | 01        | Pazartesi |\n",
       "| 24287 | None      | 248.86    | 0         | 0         | 1         | Clear     | 02        | Pazartesi |\n",
       "| 24288 | None      | 248.72    | 0         | 0         | 1         | Clear     | 03        | Pazartesi |\n",
       "| 24289 | None      | 248.43    | 0         | 0         | 1         | Clear     | 04        | Pazartesi |\n",
       "| 24290 | None      | 248.07    | 0         | 0         | 1         | Clear     | 05        | Pazartesi |\n",
       "\n"
      ],
      "text/plain": [
       "      holiday temp   rain_1h snow_1h clouds_all weather_main Hour day      \n",
       "24285 Holiday 249.36 0       0       1          Clear        00   Pazartesi\n",
       "24286 None    249.08 0       0       1          Clear        01   Pazartesi\n",
       "24287 None    248.86 0       0       1          Clear        02   Pazartesi\n",
       "24288 None    248.72 0       0       1          Clear        03   Pazartesi\n",
       "24289 None    248.43 0       0       1          Clear        04   Pazartesi\n",
       "24290 None    248.07 0       0       1          Clear        05   Pazartesi"
      ]
     },
     "metadata": {},
     "output_type": "display_data"
    }
   ],
   "source": [
    "head(testdata_X_model1)"
   ]
  },
  {
   "cell_type": "code",
   "execution_count": 14,
   "metadata": {},
   "outputs": [],
   "source": [
    "model1<- lm(traffic_volume~. , data=traindatamodel1)"
   ]
  },
  {
   "cell_type": "code",
   "execution_count": 82,
   "metadata": {},
   "outputs": [
    {
     "data": {
      "text/plain": [
       "\n",
       "Call:\n",
       "lm(formula = traffic_volume ~ ., data = traindatamodel1)\n",
       "\n",
       "Residuals:\n",
       "    Min      1Q  Median      3Q     Max \n",
       "-4870.5  -405.2     0.5   492.2  3007.9 \n",
       "\n",
       "Coefficients:\n",
       "                           Estimate Std. Error t value Pr(>|t|)    \n",
       "(Intercept)                 85.2648   201.6789   0.423 0.672463    \n",
       "holidayNone                140.9911   143.1383   0.985 0.324634    \n",
       "temp                         3.6875     0.5100   7.231 4.95e-13 ***\n",
       "rain_1h                    -43.9781     5.4342  -8.093 6.10e-16 ***\n",
       "snow_1h                   -810.8557   453.1468  -1.789 0.073565 .  \n",
       "clouds_all                  -0.7004     0.2184  -3.207 0.001343 ** \n",
       "weather_mainClouds          28.6080    19.3011   1.482 0.138301    \n",
       "weather_mainDrizzle         44.7384    30.9848   1.444 0.148785    \n",
       "weather_mainFog            -18.7306    38.7437  -0.483 0.628780    \n",
       "weather_mainHaze           -91.4327    33.7680  -2.708 0.006780 ** \n",
       "weather_mainMist           -27.9090    22.3691  -1.248 0.212169    \n",
       "weather_mainRain             0.8867    24.4281   0.036 0.971045    \n",
       "weather_mainSmoke         -250.1505   191.3979  -1.307 0.191237    \n",
       "weather_mainSnow          -156.3751    29.4835  -5.304 1.14e-07 ***\n",
       "weather_mainSquall        -967.1977   809.0772  -1.195 0.231930    \n",
       "weather_mainThunderstorm   -55.1302    39.0088  -1.413 0.157588    \n",
       "Hour01                    -317.8992    35.5606  -8.940  < 2e-16 ***\n",
       "Hour02                    -461.0982    35.5682 -12.964  < 2e-16 ***\n",
       "Hour03                    -482.1880    35.6224 -13.536  < 2e-16 ***\n",
       "Hour04                    -132.8003    35.3445  -3.757 0.000172 ***\n",
       "Hour05                    1279.8943    35.7112  35.840  < 2e-16 ***\n",
       "Hour06                    3358.0289    35.2945  95.143  < 2e-16 ***\n",
       "Hour07                    3922.0890    35.6097 110.141  < 2e-16 ***\n",
       "Hour08                    3740.7263    35.5620 105.189  < 2e-16 ***\n",
       "Hour09                    3522.6468    35.9440  98.004  < 2e-16 ***\n",
       "Hour10                    3330.6673    35.5109  93.793  < 2e-16 ***\n",
       "Hour11                    3598.9602    36.2364  99.319  < 2e-16 ***\n",
       "Hour12                    3818.0981    35.9079 106.330  < 2e-16 ***\n",
       "Hour13                    3819.8576    36.5241 104.585  < 2e-16 ***\n",
       "Hour14                    4013.4744    36.1731 110.952  < 2e-16 ***\n",
       "Hour15                    4311.0988    36.4714 118.205  < 2e-16 ***\n",
       "Hour16                    4780.4668    36.1989 132.061  < 2e-16 ***\n",
       "Hour17                    4461.0349    36.6580 121.693  < 2e-16 ***\n",
       "Hour18                    3376.4860    35.8946  94.067  < 2e-16 ***\n",
       "Hour19                    2431.0738    36.3573  66.866  < 2e-16 ***\n",
       "Hour20                    1982.2924    36.1039  54.905  < 2e-16 ***\n",
       "Hour21                    1815.6750    36.0513  50.364  < 2e-16 ***\n",
       "Hour22                    1350.7291    35.8340  37.694  < 2e-16 ***\n",
       "Hour23                     613.0513    35.6159  17.213  < 2e-16 ***\n",
       "dayCumartesi              -853.3556    19.6865 -43.347  < 2e-16 ***\n",
       "dayÇarşamba                -58.3309    19.3966  -3.007 0.002639 ** \n",
       "dayPazar                 -1202.2718    19.6213 -61.274  < 2e-16 ***\n",
       "dayPazartesi              -312.4544    19.4340 -16.078  < 2e-16 ***\n",
       "dayPerşembe                 22.9122    19.5360   1.173 0.240880    \n",
       "daySalı                   -115.9729    19.5780  -5.924 3.19e-09 ***\n",
       "---\n",
       "Signif. codes:  0 '***' 0.001 '**' 0.01 '*' 0.05 '.' 0.1 ' ' 1\n",
       "\n",
       "Residual standard error: 808.3 on 24239 degrees of freedom\n",
       "Multiple R-squared:  0.8326,\tAdjusted R-squared:  0.8323 \n",
       "F-statistic:  2739 on 44 and 24239 DF,  p-value: < 2.2e-16\n"
      ]
     },
     "metadata": {},
     "output_type": "display_data"
    }
   ],
   "source": [
    "summary(model1)"
   ]
  },
  {
   "cell_type": "markdown",
   "metadata": {},
   "source": [
    "From the summary, we can conclude that seasonality is important part of the forecast. Also temperature and rain_1h is significant. Lets calculate the RMSE and check for better models."
   ]
  },
  {
   "cell_type": "code",
   "execution_count": 15,
   "metadata": {},
   "outputs": [],
   "source": [
    "rmse1 <- sqrt(sum((testdata_Y_model1-forecast(model1,testdata_X_model1)$mean)^2)/length(testdata_Y_model1))"
   ]
  },
  {
   "cell_type": "code",
   "execution_count": 16,
   "metadata": {},
   "outputs": [
    {
     "data": {
      "text/html": [
       "815.599520144052"
      ],
      "text/latex": [
       "815.599520144052"
      ],
      "text/markdown": [
       "815.599520144052"
      ],
      "text/plain": [
       "[1] 815.5995"
      ]
     },
     "metadata": {},
     "output_type": "display_data"
    }
   ],
   "source": [
    "rmse1"
   ]
  },
  {
   "cell_type": "markdown",
   "metadata": {},
   "source": [
    "We can do better with more sophisticated models. In addition to RMSE. Adjusted R-square can be higher."
   ]
  },
  {
   "cell_type": "markdown",
   "metadata": {},
   "source": [
    "## Model 2"
   ]
  },
  {
   "cell_type": "code",
   "execution_count": 69,
   "metadata": {},
   "outputs": [],
   "source": [
    "traindatamodel2 <- subset(traindata, select=-c(date_time,weather_main,rain_1h,snow_1h))"
   ]
  },
  {
   "cell_type": "code",
   "execution_count": 70,
   "metadata": {},
   "outputs": [],
   "source": [
    "testdata_X_model2 <- subset(testdata, select=-c(traffic_volume,date_time,weather_main,rain_1h,snow_1h))\n",
    "testdata_Y_model2 <- testdata$traffic_volume"
   ]
  },
  {
   "cell_type": "code",
   "execution_count": 71,
   "metadata": {},
   "outputs": [
    {
     "data": {
      "text/html": [
       "<table>\n",
       "<thead><tr><th scope=col>holiday</th><th scope=col>temp</th><th scope=col>clouds_all</th><th scope=col>traffic_volume</th><th scope=col>Hour</th><th scope=col>day</th></tr></thead>\n",
       "<tbody>\n",
       "\t<tr><td>None     </td><td>287.586  </td><td>92       </td><td>2886     </td><td>20       </td><td>Perşembe </td></tr>\n",
       "\t<tr><td>None     </td><td>297.543  </td><td> 0       </td><td>4380     </td><td>18       </td><td>Cuma     </td></tr>\n",
       "\t<tr><td>None     </td><td>292.061  </td><td> 8       </td><td>3095     </td><td>20       </td><td>Cuma     </td></tr>\n",
       "\t<tr><td>None     </td><td>292.061  </td><td> 8       </td><td>3299     </td><td>21       </td><td>Cuma     </td></tr>\n",
       "\t<tr><td>None     </td><td>294.840  </td><td>76       </td><td>3040     </td><td>21       </td><td>Cumartesi</td></tr>\n",
       "\t<tr><td>None     </td><td>293.137  </td><td>56       </td><td>2051     </td><td>23       </td><td>Cumartesi</td></tr>\n",
       "</tbody>\n",
       "</table>\n"
      ],
      "text/latex": [
       "\\begin{tabular}{r|llllll}\n",
       " holiday & temp & clouds\\_all & traffic\\_volume & Hour & day\\\\\n",
       "\\hline\n",
       "\t None      & 287.586   & 92        & 2886      & 20        & Perşembe \\\\\n",
       "\t None      & 297.543   &  0        & 4380      & 18        & Cuma     \\\\\n",
       "\t None      & 292.061   &  8        & 3095      & 20        & Cuma     \\\\\n",
       "\t None      & 292.061   &  8        & 3299      & 21        & Cuma     \\\\\n",
       "\t None      & 294.840   & 76        & 3040      & 21        & Cumartesi\\\\\n",
       "\t None      & 293.137   & 56        & 2051      & 23        & Cumartesi\\\\\n",
       "\\end{tabular}\n"
      ],
      "text/markdown": [
       "\n",
       "| holiday | temp | clouds_all | traffic_volume | Hour | day |\n",
       "|---|---|---|---|---|---|\n",
       "| None      | 287.586   | 92        | 2886      | 20        | Perşembe  |\n",
       "| None      | 297.543   |  0        | 4380      | 18        | Cuma      |\n",
       "| None      | 292.061   |  8        | 3095      | 20        | Cuma      |\n",
       "| None      | 292.061   |  8        | 3299      | 21        | Cuma      |\n",
       "| None      | 294.840   | 76        | 3040      | 21        | Cumartesi |\n",
       "| None      | 293.137   | 56        | 2051      | 23        | Cumartesi |\n",
       "\n"
      ],
      "text/plain": [
       "  holiday temp    clouds_all traffic_volume Hour day      \n",
       "1 None    287.586 92         2886           20   Perşembe \n",
       "2 None    297.543  0         4380           18   Cuma     \n",
       "3 None    292.061  8         3095           20   Cuma     \n",
       "4 None    292.061  8         3299           21   Cuma     \n",
       "5 None    294.840 76         3040           21   Cumartesi\n",
       "6 None    293.137 56         2051           23   Cumartesi"
      ]
     },
     "metadata": {},
     "output_type": "display_data"
    }
   ],
   "source": [
    "head(traindatamodel2)"
   ]
  },
  {
   "cell_type": "code",
   "execution_count": 97,
   "metadata": {},
   "outputs": [
    {
     "data": {
      "text/html": [
       "<table>\n",
       "<thead><tr><th></th><th scope=col>holiday</th><th scope=col>temp</th><th scope=col>clouds_all</th><th scope=col>Hour</th><th scope=col>day</th></tr></thead>\n",
       "<tbody>\n",
       "\t<tr><th scope=row>24285</th><td>Holiday  </td><td>249.36   </td><td>1        </td><td>00       </td><td>Pazartesi</td></tr>\n",
       "\t<tr><th scope=row>24286</th><td>None     </td><td>249.08   </td><td>1        </td><td>01       </td><td>Pazartesi</td></tr>\n",
       "\t<tr><th scope=row>24287</th><td>None     </td><td>248.86   </td><td>1        </td><td>02       </td><td>Pazartesi</td></tr>\n",
       "\t<tr><th scope=row>24288</th><td>None     </td><td>248.72   </td><td>1        </td><td>03       </td><td>Pazartesi</td></tr>\n",
       "\t<tr><th scope=row>24289</th><td>None     </td><td>248.43   </td><td>1        </td><td>04       </td><td>Pazartesi</td></tr>\n",
       "\t<tr><th scope=row>24290</th><td>None     </td><td>248.07   </td><td>1        </td><td>05       </td><td>Pazartesi</td></tr>\n",
       "</tbody>\n",
       "</table>\n"
      ],
      "text/latex": [
       "\\begin{tabular}{r|lllll}\n",
       "  & holiday & temp & clouds\\_all & Hour & day\\\\\n",
       "\\hline\n",
       "\t24285 & Holiday   & 249.36    & 1         & 00        & Pazartesi\\\\\n",
       "\t24286 & None      & 249.08    & 1         & 01        & Pazartesi\\\\\n",
       "\t24287 & None      & 248.86    & 1         & 02        & Pazartesi\\\\\n",
       "\t24288 & None      & 248.72    & 1         & 03        & Pazartesi\\\\\n",
       "\t24289 & None      & 248.43    & 1         & 04        & Pazartesi\\\\\n",
       "\t24290 & None      & 248.07    & 1         & 05        & Pazartesi\\\\\n",
       "\\end{tabular}\n"
      ],
      "text/markdown": [
       "\n",
       "| <!--/--> | holiday | temp | clouds_all | Hour | day |\n",
       "|---|---|---|---|---|---|\n",
       "| 24285 | Holiday   | 249.36    | 1         | 00        | Pazartesi |\n",
       "| 24286 | None      | 249.08    | 1         | 01        | Pazartesi |\n",
       "| 24287 | None      | 248.86    | 1         | 02        | Pazartesi |\n",
       "| 24288 | None      | 248.72    | 1         | 03        | Pazartesi |\n",
       "| 24289 | None      | 248.43    | 1         | 04        | Pazartesi |\n",
       "| 24290 | None      | 248.07    | 1         | 05        | Pazartesi |\n",
       "\n"
      ],
      "text/plain": [
       "      holiday temp   clouds_all Hour day      \n",
       "24285 Holiday 249.36 1          00   Pazartesi\n",
       "24286 None    249.08 1          01   Pazartesi\n",
       "24287 None    248.86 1          02   Pazartesi\n",
       "24288 None    248.72 1          03   Pazartesi\n",
       "24289 None    248.43 1          04   Pazartesi\n",
       "24290 None    248.07 1          05   Pazartesi"
      ]
     },
     "metadata": {},
     "output_type": "display_data"
    }
   ],
   "source": [
    "head(testdata_X_model2 )"
   ]
  },
  {
   "cell_type": "code",
   "execution_count": 72,
   "metadata": {},
   "outputs": [],
   "source": [
    "model2<- lm(traffic_volume~. , data=traindatamodel2)"
   ]
  },
  {
   "cell_type": "code",
   "execution_count": 73,
   "metadata": {
    "scrolled": false
   },
   "outputs": [
    {
     "data": {
      "text/plain": [
       "\n",
       "Call:\n",
       "lm(formula = traffic_volume ~ ., data = traindatamodel2)\n",
       "\n",
       "Residuals:\n",
       "    Min      1Q  Median      3Q     Max \n",
       "-5164.1  -404.2    -0.9   488.5  3002.4 \n",
       "\n",
       "Coefficients:\n",
       "               Estimate Std. Error t value Pr(>|t|)    \n",
       "(Intercept)   -135.5552   193.1069  -0.702 0.482705    \n",
       "holidayNone    151.7580   143.5284   1.057 0.290368    \n",
       "temp             4.4143     0.4658   9.476  < 2e-16 ***\n",
       "clouds_all      -0.9224     0.1337  -6.901 5.28e-12 ***\n",
       "Hour01        -318.9429    35.6552  -8.945  < 2e-16 ***\n",
       "Hour02        -462.4744    35.6567 -12.970  < 2e-16 ***\n",
       "Hour03        -489.2712    35.6839 -13.711  < 2e-16 ***\n",
       "Hour04        -133.1341    35.4236  -3.758 0.000171 ***\n",
       "Hour05        1280.7489    35.7795  35.796  < 2e-16 ***\n",
       "Hour06        3357.7203    35.3455  94.997  < 2e-16 ***\n",
       "Hour07        3923.2370    35.6689 109.990  < 2e-16 ***\n",
       "Hour08        3744.3632    35.6418 105.055  < 2e-16 ***\n",
       "Hour09        3527.3969    36.0285  97.906  < 2e-16 ***\n",
       "Hour10        3335.3689    35.5856  93.728  < 2e-16 ***\n",
       "Hour11        3602.9683    36.2838  99.300  < 2e-16 ***\n",
       "Hour12        3823.1769    35.9334 106.396  < 2e-16 ***\n",
       "Hour13        3824.5092    36.5465 104.648  < 2e-16 ***\n",
       "Hour14        4020.3367    36.1533 111.203  < 2e-16 ***\n",
       "Hour15        4318.3472    36.4732 118.398  < 2e-16 ***\n",
       "Hour16        4786.9693    36.2203 132.162  < 2e-16 ***\n",
       "Hour17        4467.6327    36.6930 121.757  < 2e-16 ***\n",
       "Hour18        3383.3663    35.9395  94.141  < 2e-16 ***\n",
       "Hour19        2437.0680    36.4170  66.921  < 2e-16 ***\n",
       "Hour20        1988.7766    36.1608  54.998  < 2e-16 ***\n",
       "Hour21        1815.6013    36.1258  50.258  < 2e-16 ***\n",
       "Hour22        1352.1358    35.9243  37.639  < 2e-16 ***\n",
       "Hour23         614.9899    35.7110  17.221  < 2e-16 ***\n",
       "dayCumartesi  -852.2023    19.7165 -43.223  < 2e-16 ***\n",
       "dayÇarşamba    -56.8721    19.4284  -2.927 0.003423 ** \n",
       "dayPazar     -1198.6551    19.6549 -60.985  < 2e-16 ***\n",
       "dayPazartesi  -317.0861    19.4667 -16.289  < 2e-16 ***\n",
       "dayPerşembe     21.5805    19.5783   1.102 0.270356    \n",
       "daySalı       -118.5116    19.6199  -6.040 1.56e-09 ***\n",
       "---\n",
       "Signif. codes:  0 '***' 0.001 '**' 0.01 '*' 0.05 '.' 0.1 ' ' 1\n",
       "\n",
       "Residual standard error: 810.7 on 24251 degrees of freedom\n",
       "Multiple R-squared:  0.8315,\tAdjusted R-squared:  0.8313 \n",
       "F-statistic:  3740 on 32 and 24251 DF,  p-value: < 2.2e-16\n"
      ]
     },
     "metadata": {},
     "output_type": "display_data"
    }
   ],
   "source": [
    "summary(model2)"
   ]
  },
  {
   "cell_type": "markdown",
   "metadata": {},
   "source": [
    "With the weather, rain, snow columns are dropped. Our model got little bit worse. However, since these columns are not significant, effects of these data can be ignored without high loss in model performance."
   ]
  },
  {
   "cell_type": "code",
   "execution_count": 74,
   "metadata": {},
   "outputs": [],
   "source": [
    "rmse2 <- sqrt(sum((testdata_Y_model2-forecast(model2,testdata_X_model2)$mean)^2)/length(testdata_Y_model2))"
   ]
  },
  {
   "cell_type": "code",
   "execution_count": 75,
   "metadata": {},
   "outputs": [
    {
     "data": {
      "text/html": [
       "819.683002961179"
      ],
      "text/latex": [
       "819.683002961179"
      ],
      "text/markdown": [
       "819.683002961179"
      ],
      "text/plain": [
       "[1] 819.683"
      ]
     },
     "metadata": {},
     "output_type": "display_data"
    }
   ],
   "source": [
    "rmse2"
   ]
  },
  {
   "cell_type": "markdown",
   "metadata": {},
   "source": [
    "## Model 3"
   ]
  },
  {
   "cell_type": "code",
   "execution_count": 78,
   "metadata": {},
   "outputs": [],
   "source": [
    "data$lag <- shift(data$traffic_volume, 1)\n",
    "data$lag24 <- shift(data$traffic_volume, 24)"
   ]
  },
  {
   "cell_type": "markdown",
   "metadata": {},
   "source": [
    "For this model, I will introduce two new columns. Which are Lag1 and Lag24, the idea behind it is, the traffic volume right now is somehow related with 24 hours ago's traffic volume and the traffic volume one hour ago."
   ]
  },
  {
   "cell_type": "code",
   "execution_count": 79,
   "metadata": {},
   "outputs": [],
   "source": [
    "traindata <- data[c(1:24284),]\n",
    "testdata <- data[c(24285:32233),]"
   ]
  },
  {
   "cell_type": "code",
   "execution_count": 80,
   "metadata": {},
   "outputs": [],
   "source": [
    "traindata<-traindata[c(25:24284),]"
   ]
  },
  {
   "cell_type": "code",
   "execution_count": 81,
   "metadata": {
    "scrolled": true
   },
   "outputs": [],
   "source": [
    "traindatamodel3 <- subset(traindata, select=-c(date_time,weather_main,rain_1h,snow_1h))"
   ]
  },
  {
   "cell_type": "code",
   "execution_count": 82,
   "metadata": {},
   "outputs": [],
   "source": [
    "testdata_X_model3 <- subset(testdata, select=-c(traffic_volume,date_time,weather_main,rain_1h,snow_1h))\n",
    "testdata_Y_model3 <- testdata$traffic_volume"
   ]
  },
  {
   "cell_type": "markdown",
   "metadata": {},
   "source": [
    "I dropped the first 24 rows since they have NA's in lag columns in training data."
   ]
  },
  {
   "cell_type": "code",
   "execution_count": 83,
   "metadata": {
    "scrolled": false
   },
   "outputs": [
    {
     "data": {
      "text/plain": [
       "\n",
       "Call:\n",
       "lm(formula = traffic_volume ~ ., data = traindatamodel3)\n",
       "\n",
       "Residuals:\n",
       "    Min      1Q  Median      3Q     Max \n",
       "-4502.7  -217.1   -16.0   241.7  3767.7 \n",
       "\n",
       "Coefficients:\n",
       "               Estimate Std. Error t value Pr(>|t|)    \n",
       "(Intercept)  -2.889e+02  1.230e+02  -2.349 0.018819 *  \n",
       "holidayNone   2.343e+01  9.140e+01   0.256 0.797696    \n",
       "temp          8.773e-01  2.976e-01   2.948 0.003204 ** \n",
       "clouds_all   -2.515e-01  8.524e-02  -2.950 0.003177 ** \n",
       "Hour01        7.353e+01  2.280e+01   3.225 0.001263 ** \n",
       "Hour02        1.437e+02  2.294e+01   6.263 3.84e-10 ***\n",
       "Hour03        2.066e+02  2.303e+01   8.972  < 2e-16 ***\n",
       "Hour04        5.236e+02  2.287e+01  22.901  < 2e-16 ***\n",
       "Hour05        1.561e+03  2.294e+01  68.055  < 2e-16 ***\n",
       "Hour06        2.576e+03  2.307e+01 111.678  < 2e-16 ***\n",
       "Hour07        1.930e+03  2.517e+01  76.698  < 2e-16 ***\n",
       "Hour08        1.438e+03  2.587e+01  55.582  < 2e-16 ***\n",
       "Hour09        1.300e+03  2.586e+01  50.284  < 2e-16 ***\n",
       "Hour10        1.265e+03  2.524e+01  50.106  < 2e-16 ***\n",
       "Hour11        1.599e+03  2.550e+01  62.706  < 2e-16 ***\n",
       "Hour12        1.666e+03  2.564e+01  64.951  < 2e-16 ***\n",
       "Hour13        1.526e+03  2.633e+01  57.948  < 2e-16 ***\n",
       "Hour14        1.698e+03  2.617e+01  64.883  < 2e-16 ***\n",
       "Hour15        1.853e+03  2.672e+01  69.357  < 2e-16 ***\n",
       "Hour16        2.108e+03  2.714e+01  77.675  < 2e-16 ***\n",
       "Hour17        1.532e+03  2.810e+01  54.520  < 2e-16 ***\n",
       "Hour18        7.489e+02  2.684e+01  27.902  < 2e-16 ***\n",
       "Hour19        4.765e+02  2.542e+01  18.745  < 2e-16 ***\n",
       "Hour20        6.340e+02  2.415e+01  26.256  < 2e-16 ***\n",
       "Hour21        7.892e+02  2.365e+01  33.365  < 2e-16 ***\n",
       "Hour22        5.037e+02  2.332e+01  21.603  < 2e-16 ***\n",
       "Hour23        9.797e+01  2.291e+01   4.276 1.91e-05 ***\n",
       "dayCumartesi -2.589e+02  1.295e+01 -19.989  < 2e-16 ***\n",
       "dayÇarşamba  -2.808e+01  1.239e+01  -2.267 0.023413 *  \n",
       "dayPazar     -3.913e+02  1.329e+01 -29.431  < 2e-16 ***\n",
       "dayPazartesi -9.894e+01  1.260e+01  -7.854 4.19e-15 ***\n",
       "dayPerşembe  -5.049e+00  1.247e+01  -0.405 0.685666    \n",
       "daySalı      -4.439e+01  1.252e+01  -3.545 0.000393 ***\n",
       "lag           6.987e-01  3.720e-03 187.830  < 2e-16 ***\n",
       "lag24         1.208e-02  1.837e-03   6.574 5.01e-11 ***\n",
       "---\n",
       "Signif. codes:  0 '***' 0.001 '**' 0.01 '*' 0.05 '.' 0.1 ' ' 1\n",
       "\n",
       "Residual standard error: 516.2 on 24225 degrees of freedom\n",
       "Multiple R-squared:  0.9317,\tAdjusted R-squared:  0.9316 \n",
       "F-statistic:  9722 on 34 and 24225 DF,  p-value: < 2.2e-16\n"
      ]
     },
     "metadata": {},
     "output_type": "display_data"
    }
   ],
   "source": [
    "model3<- lm(traffic_volume~. , data=traindatamodel3)\n",
    "summary(model3)"
   ]
  },
  {
   "cell_type": "markdown",
   "metadata": {},
   "source": [
    "With the lags introduced our adjusted R-square increase to 0.9316. Lets calculate RMSE."
   ]
  },
  {
   "cell_type": "code",
   "execution_count": 84,
   "metadata": {},
   "outputs": [],
   "source": [
    "rmse3 <- sqrt(sum((testdata_Y_model3-forecast(model3,testdata_X_model3)$mean)^2)/length(testdata_Y_model3))"
   ]
  },
  {
   "cell_type": "code",
   "execution_count": 85,
   "metadata": {},
   "outputs": [
    {
     "data": {
      "text/html": [
       "460.500421716018"
      ],
      "text/latex": [
       "460.500421716018"
      ],
      "text/markdown": [
       "460.500421716018"
      ],
      "text/plain": [
       "[1] 460.5004"
      ]
     },
     "metadata": {},
     "output_type": "display_data"
    }
   ],
   "source": [
    "rmse3"
   ]
  },
  {
   "cell_type": "markdown",
   "metadata": {},
   "source": [
    "We got a great decrease in our RMSE."
   ]
  },
  {
   "cell_type": "code",
   "execution_count": 86,
   "metadata": {},
   "outputs": [
    {
     "name": "stdout",
     "output_type": "stream",
     "text": [
      "[1] \"RMSE of Model1: 815.599520144052\"\n",
      "[1] \"RMSE of Model2: 819.683002961179\"\n",
      "[1] \"RMSE of Model3: 460.500421716018\"\n"
     ]
    }
   ],
   "source": [
    "print(paste0(\"RMSE of Model1: \", rmse1))\n",
    "print(paste0(\"RMSE of Model2: \", rmse2))\n",
    "print(paste0(\"RMSE of Model3: \", rmse3))"
   ]
  },
  {
   "cell_type": "markdown",
   "metadata": {},
   "source": [
    "From the RMSE's above, we can conclude best model is the Model 3. The difference in Model 3 is it has lag features too."
   ]
  },
  {
   "cell_type": "markdown",
   "metadata": {},
   "source": [
    "# ARIMA"
   ]
  },
  {
   "cell_type": "markdown",
   "metadata": {},
   "source": [
    "## Without external regressor"
   ]
  },
  {
   "cell_type": "code",
   "execution_count": 87,
   "metadata": {},
   "outputs": [
    {
     "data": {
      "text/html": [
       "<table>\n",
       "<thead><tr><th scope=col>holiday</th><th scope=col>temp</th><th scope=col>rain_1h</th><th scope=col>snow_1h</th><th scope=col>clouds_all</th><th scope=col>weather_main</th><th scope=col>date_time</th><th scope=col>traffic_volume</th><th scope=col>Hour</th><th scope=col>day</th><th scope=col>lag</th><th scope=col>lag24</th></tr></thead>\n",
       "<tbody>\n",
       "\t<tr><td>None               </td><td>287.586            </td><td>0                  </td><td>0                  </td><td>92                 </td><td>Rain               </td><td>2015-06-11 20:00:00</td><td>2886               </td><td>20                 </td><td>Perşembe           </td><td>  NA               </td><td>NA                 </td></tr>\n",
       "\t<tr><td>None               </td><td>297.543            </td><td>0                  </td><td>0                  </td><td> 0                 </td><td>Clear              </td><td>2015-06-12 18:00:00</td><td>4380               </td><td>18                 </td><td>Cuma               </td><td>2886               </td><td>NA                 </td></tr>\n",
       "\t<tr><td>None               </td><td>292.061            </td><td>0                  </td><td>0                  </td><td> 8                 </td><td>Clear              </td><td>2015-06-12 20:00:00</td><td>3095               </td><td>20                 </td><td>Cuma               </td><td>4380               </td><td>NA                 </td></tr>\n",
       "\t<tr><td>None               </td><td>292.061            </td><td>0                  </td><td>0                  </td><td> 8                 </td><td>Clear              </td><td>2015-06-12 21:00:00</td><td>3299               </td><td>21                 </td><td>Cuma               </td><td>3095               </td><td>NA                 </td></tr>\n",
       "\t<tr><td>None               </td><td>294.840            </td><td>0                  </td><td>0                  </td><td>76                 </td><td>Clouds             </td><td>2015-06-13 21:00:00</td><td>3040               </td><td>21                 </td><td>Cumartesi          </td><td>3299               </td><td>NA                 </td></tr>\n",
       "\t<tr><td>None               </td><td>293.137            </td><td>0                  </td><td>0                  </td><td>56                 </td><td>Clouds             </td><td>2015-06-13 23:00:00</td><td>2051               </td><td>23                 </td><td>Cumartesi          </td><td>3040               </td><td>NA                 </td></tr>\n",
       "</tbody>\n",
       "</table>\n"
      ],
      "text/latex": [
       "\\begin{tabular}{r|llllllllllll}\n",
       " holiday & temp & rain\\_1h & snow\\_1h & clouds\\_all & weather\\_main & date\\_time & traffic\\_volume & Hour & day & lag & lag24\\\\\n",
       "\\hline\n",
       "\t None                & 287.586             & 0                   & 0                   & 92                  & Rain                & 2015-06-11 20:00:00 & 2886                & 20                  & Perşembe            &   NA                & NA                 \\\\\n",
       "\t None                & 297.543             & 0                   & 0                   &  0                  & Clear               & 2015-06-12 18:00:00 & 4380                & 18                  & Cuma                & 2886                & NA                 \\\\\n",
       "\t None                & 292.061             & 0                   & 0                   &  8                  & Clear               & 2015-06-12 20:00:00 & 3095                & 20                  & Cuma                & 4380                & NA                 \\\\\n",
       "\t None                & 292.061             & 0                   & 0                   &  8                  & Clear               & 2015-06-12 21:00:00 & 3299                & 21                  & Cuma                & 3095                & NA                 \\\\\n",
       "\t None                & 294.840             & 0                   & 0                   & 76                  & Clouds              & 2015-06-13 21:00:00 & 3040                & 21                  & Cumartesi           & 3299                & NA                 \\\\\n",
       "\t None                & 293.137             & 0                   & 0                   & 56                  & Clouds              & 2015-06-13 23:00:00 & 2051                & 23                  & Cumartesi           & 3040                & NA                 \\\\\n",
       "\\end{tabular}\n"
      ],
      "text/markdown": [
       "\n",
       "| holiday | temp | rain_1h | snow_1h | clouds_all | weather_main | date_time | traffic_volume | Hour | day | lag | lag24 |\n",
       "|---|---|---|---|---|---|---|---|---|---|---|---|\n",
       "| None                | 287.586             | 0                   | 0                   | 92                  | Rain                | 2015-06-11 20:00:00 | 2886                | 20                  | Perşembe            |   NA                | NA                  |\n",
       "| None                | 297.543             | 0                   | 0                   |  0                  | Clear               | 2015-06-12 18:00:00 | 4380                | 18                  | Cuma                | 2886                | NA                  |\n",
       "| None                | 292.061             | 0                   | 0                   |  8                  | Clear               | 2015-06-12 20:00:00 | 3095                | 20                  | Cuma                | 4380                | NA                  |\n",
       "| None                | 292.061             | 0                   | 0                   |  8                  | Clear               | 2015-06-12 21:00:00 | 3299                | 21                  | Cuma                | 3095                | NA                  |\n",
       "| None                | 294.840             | 0                   | 0                   | 76                  | Clouds              | 2015-06-13 21:00:00 | 3040                | 21                  | Cumartesi           | 3299                | NA                  |\n",
       "| None                | 293.137             | 0                   | 0                   | 56                  | Clouds              | 2015-06-13 23:00:00 | 2051                | 23                  | Cumartesi           | 3040                | NA                  |\n",
       "\n"
      ],
      "text/plain": [
       "  holiday temp    rain_1h snow_1h clouds_all weather_main date_time          \n",
       "1 None    287.586 0       0       92         Rain         2015-06-11 20:00:00\n",
       "2 None    297.543 0       0        0         Clear        2015-06-12 18:00:00\n",
       "3 None    292.061 0       0        8         Clear        2015-06-12 20:00:00\n",
       "4 None    292.061 0       0        8         Clear        2015-06-12 21:00:00\n",
       "5 None    294.840 0       0       76         Clouds       2015-06-13 21:00:00\n",
       "6 None    293.137 0       0       56         Clouds       2015-06-13 23:00:00\n",
       "  traffic_volume Hour day       lag  lag24\n",
       "1 2886           20   Perşembe    NA NA   \n",
       "2 4380           18   Cuma      2886 NA   \n",
       "3 3095           20   Cuma      4380 NA   \n",
       "4 3299           21   Cuma      3095 NA   \n",
       "5 3040           21   Cumartesi 3299 NA   \n",
       "6 2051           23   Cumartesi 3040 NA   "
      ]
     },
     "metadata": {},
     "output_type": "display_data"
    }
   ],
   "source": [
    "head(data)"
   ]
  },
  {
   "cell_type": "code",
   "execution_count": 3,
   "metadata": {},
   "outputs": [
    {
     "name": "stdout",
     "output_type": "stream",
     "text": [
      "'data.frame':\t48204 obs. of  9 variables:\n",
      " $ holiday            : Factor w/ 12 levels \"Christmas Day\",..: 8 8 8 8 8 8 8 8 8 8 ...\n",
      " $ temp               : num  288 289 290 290 291 ...\n",
      " $ rain_1h            : num  0 0 0 0 0 0 0 0 0 0 ...\n",
      " $ snow_1h            : num  0 0 0 0 0 0 0 0 0 0 ...\n",
      " $ clouds_all         : int  40 75 90 90 75 1 1 1 20 20 ...\n",
      " $ weather_main       : Factor w/ 11 levels \"Clear\",\"Clouds\",..: 2 2 2 2 2 1 1 1 2 2 ...\n",
      " $ weather_description: Factor w/ 38 levels \"broken clouds\",..: 23 1 18 18 1 26 26 26 3 3 ...\n",
      " $ date_time          : Factor w/ 40575 levels \"2012-10-02 09:00:00\",..: 1 2 3 4 5 6 7 8 9 10 ...\n",
      " $ traffic_volume     : int  5545 4516 4767 5026 4918 5181 5584 6015 5791 4770 ...\n"
     ]
    }
   ],
   "source": [
    "str(data)"
   ]
  },
  {
   "cell_type": "code",
   "execution_count": 88,
   "metadata": {},
   "outputs": [],
   "source": [
    "regression <-aggregate(data$temp~data$date_time, FUN=mean)"
   ]
  },
  {
   "cell_type": "markdown",
   "metadata": {},
   "source": [
    "I aggregated data for external regressor because there were some data, which has same date_time, same temp, same traffic_volume however different weather_main. Since we will not use weather_main in ARIMA, this rows will cause problems."
   ]
  },
  {
   "cell_type": "code",
   "execution_count": 89,
   "metadata": {
    "scrolled": true
   },
   "outputs": [
    {
     "data": {
      "text/html": [
       "<table>\n",
       "<thead><tr><th></th><th scope=col>data$date_time</th><th scope=col>data$temp</th></tr></thead>\n",
       "<tbody>\n",
       "\t<tr><th scope=row>26672</th><td>2018-09-30 18:00:00</td><td>284.20             </td></tr>\n",
       "\t<tr><th scope=row>26673</th><td>2018-09-30 19:00:00</td><td>283.45             </td></tr>\n",
       "\t<tr><th scope=row>26674</th><td>2018-09-30 20:00:00</td><td>282.76             </td></tr>\n",
       "\t<tr><th scope=row>26675</th><td>2018-09-30 21:00:00</td><td>282.73             </td></tr>\n",
       "\t<tr><th scope=row>26676</th><td>2018-09-30 22:00:00</td><td>282.09             </td></tr>\n",
       "\t<tr><th scope=row>26677</th><td>2018-09-30 23:00:00</td><td>282.12             </td></tr>\n",
       "</tbody>\n",
       "</table>\n"
      ],
      "text/latex": [
       "\\begin{tabular}{r|ll}\n",
       "  & data\\$date\\_time & data\\$temp\\\\\n",
       "\\hline\n",
       "\t26672 & 2018-09-30 18:00:00 & 284.20             \\\\\n",
       "\t26673 & 2018-09-30 19:00:00 & 283.45             \\\\\n",
       "\t26674 & 2018-09-30 20:00:00 & 282.76             \\\\\n",
       "\t26675 & 2018-09-30 21:00:00 & 282.73             \\\\\n",
       "\t26676 & 2018-09-30 22:00:00 & 282.09             \\\\\n",
       "\t26677 & 2018-09-30 23:00:00 & 282.12             \\\\\n",
       "\\end{tabular}\n"
      ],
      "text/markdown": [
       "\n",
       "| <!--/--> | data$date_time | data$temp |\n",
       "|---|---|---|\n",
       "| 26672 | 2018-09-30 18:00:00 | 284.20              |\n",
       "| 26673 | 2018-09-30 19:00:00 | 283.45              |\n",
       "| 26674 | 2018-09-30 20:00:00 | 282.76              |\n",
       "| 26675 | 2018-09-30 21:00:00 | 282.73              |\n",
       "| 26676 | 2018-09-30 22:00:00 | 282.09              |\n",
       "| 26677 | 2018-09-30 23:00:00 | 282.12              |\n",
       "\n"
      ],
      "text/plain": [
       "      data$date_time      data$temp\n",
       "26672 2018-09-30 18:00:00 284.20   \n",
       "26673 2018-09-30 19:00:00 283.45   \n",
       "26674 2018-09-30 20:00:00 282.76   \n",
       "26675 2018-09-30 21:00:00 282.73   \n",
       "26676 2018-09-30 22:00:00 282.09   \n",
       "26677 2018-09-30 23:00:00 282.12   "
      ]
     },
     "metadata": {},
     "output_type": "display_data"
    }
   ],
   "source": [
    "tail(regression)"
   ]
  },
  {
   "cell_type": "code",
   "execution_count": 90,
   "metadata": {},
   "outputs": [],
   "source": [
    "names(regression)[names(regression) == \"data$traffic_volume\"] <- \"traffic_volume\"\n",
    "names(regression)[names(regression) == 'data$temp'] <- 'temp'"
   ]
  },
  {
   "cell_type": "code",
   "execution_count": 91,
   "metadata": {},
   "outputs": [],
   "source": [
    "trainregdata <- regression[c(1:20144),]\n",
    "testregdata <- regression[c(20145:26677),]"
   ]
  },
  {
   "cell_type": "code",
   "execution_count": 92,
   "metadata": {},
   "outputs": [],
   "source": [
    "datar <- aggregate(data$traffic_volume~data$date_time, FUN=mean)"
   ]
  },
  {
   "cell_type": "markdown",
   "metadata": {},
   "source": [
    "I aggregated data because there were some data, which has same date_time, same temp, same traffic_volume however different weather_main. Since we will not use weather_main in ARIMA, this rows will cause problems."
   ]
  },
  {
   "cell_type": "code",
   "execution_count": 93,
   "metadata": {
    "scrolled": true
   },
   "outputs": [],
   "source": [
    "names(datar)[names(datar) == \"data$traffic_volume\"] <- \"traffic_volume\"\n",
    "names(datar)[names(datar) == 'data$date_time'] <- 'date_time'"
   ]
  },
  {
   "cell_type": "code",
   "execution_count": 98,
   "metadata": {},
   "outputs": [],
   "source": [
    "traindata <- datar[c(1:20144),]\n",
    "testdata <- datar[c(20145:26677),]"
   ]
  },
  {
   "cell_type": "code",
   "execution_count": 99,
   "metadata": {},
   "outputs": [],
   "source": [
    "model1ar<-auto.arima(as.ts(traindata$traffic_volume,frequency=24))"
   ]
  },
  {
   "cell_type": "code",
   "execution_count": 100,
   "metadata": {},
   "outputs": [
    {
     "name": "stdout",
     "output_type": "stream",
     "text": [
      "Series: as.ts(traindata$traffic_volume, frequency = 24) \n",
      "ARIMA(3,1,3) with drift \n",
      "\n",
      "Coefficients:\n",
      "         ar1      ar2     ar3      ma1     ma2     ma3   drift\n",
      "      1.9187  -1.0728  0.0888  -1.5613  0.2290  0.3511  0.0255\n",
      "s.e.  0.0161   0.0302  0.0155   0.0149  0.0282  0.0137  1.4236\n",
      "\n",
      "sigma^2 estimated as 497406:  log likelihood=-160689.5\n",
      "AIC=321395.1   AICc=321395.1   BIC=321458.3\n",
      "\n",
      "Training set error measures:\n",
      "                    ME     RMSE      MAE  MPE MAPE      MASE        ACF1\n",
      "Training set -0.174206 705.1298 495.7888 -Inf  Inf 0.7868646 0.002775279\n"
     ]
    }
   ],
   "source": [
    "summary(model1ar)"
   ]
  },
  {
   "cell_type": "code",
   "execution_count": 101,
   "metadata": {},
   "outputs": [],
   "source": [
    "predictionsar1=forecast(model1ar,h=24)"
   ]
  },
  {
   "cell_type": "code",
   "execution_count": 102,
   "metadata": {},
   "outputs": [
    {
     "data": {
      "text/plain": [
       "      Point Forecast      Lo 80    Hi 80      Lo 95    Hi 95\n",
       "20145       1276.870  373.03062 2180.710  -105.4332 2659.174\n",
       "20146       1113.249 -410.55930 2637.057 -1217.2146 3443.712\n",
       "20147       1061.369 -808.53678 2931.274 -1798.4049 3921.142\n",
       "20148       1110.450 -947.92014 3168.820 -2037.5555 4258.456\n",
       "20149       1245.753 -902.25733 3393.764 -2039.3454 4530.852\n",
       "20150       1448.096 -731.24949 3627.441 -1884.9251 4781.116\n",
       "20151       1695.529 -488.37732 3879.435 -1644.4675 5035.525\n",
       "20152       1965.212 -219.33555 4149.760 -1375.7652 5306.189\n",
       "20153       2235.163   41.17777 4429.148 -1120.2479 5590.574\n",
       "20154       2485.762  270.84313 4700.681  -901.6641 5873.188\n",
       "20155       2700.919  458.11185 4943.726  -729.1584 6130.996\n",
       "20156       2868.858  598.64283 5139.074  -603.1367 6340.853\n",
       "20157       2982.508  691.68317 5273.334  -521.0065 6486.023\n",
       "20158       3039.503  737.62240 5341.384  -480.9196 6559.925\n",
       "20159       3041.844  736.95558 5346.733  -483.1788 6566.867\n",
       "20160       2995.284  690.38894 5300.180  -529.7490 6520.318\n",
       "20161       2908.501  599.71992 5217.283  -622.4752 6439.478\n",
       "20162       2792.153  469.06728 5115.239  -760.7001 6345.007\n",
       "20163       2657.889  305.89243 5009.885  -939.1791 6254.956\n",
       "20164       2517.395  121.21276 4913.577 -1147.2494 6182.039\n",
       "20165       2381.546  -71.30536 4834.397 -1369.7662 6132.858\n",
       "20166       2259.700 -257.14623 4776.545 -1589.4839 6108.883\n",
       "20167       2159.185 -423.00878 4741.379 -1789.9396 6108.310\n",
       "20168       2084.989 -558.50979 4728.487 -1957.8933 6127.870"
      ]
     },
     "metadata": {},
     "output_type": "display_data"
    }
   ],
   "source": [
    "predictionsar1"
   ]
  },
  {
   "cell_type": "code",
   "execution_count": 103,
   "metadata": {},
   "outputs": [
    {
     "data": {
      "text/html": [
       "760.094050394247"
      ],
      "text/latex": [
       "760.094050394247"
      ],
      "text/markdown": [
       "760.094050394247"
      ],
      "text/plain": [
       "[1] 760.0941"
      ]
     },
     "metadata": {},
     "output_type": "display_data"
    }
   ],
   "source": [
    "sqrt(sum((as.numeric(predictionsar1$mean)-testdata[c(1:24),]$traffic_volume)^2)/24)"
   ]
  },
  {
   "cell_type": "markdown",
   "metadata": {},
   "source": [
    "## Arima With External Regressor"
   ]
  },
  {
   "cell_type": "code",
   "execution_count": 105,
   "metadata": {},
   "outputs": [],
   "source": [
    "model2ar=auto.arima(as.ts(traindata$traffic_volume,frequency=24),xreg=trainregdata[,'temp'])"
   ]
  },
  {
   "cell_type": "code",
   "execution_count": 106,
   "metadata": {},
   "outputs": [
    {
     "name": "stdout",
     "output_type": "stream",
     "text": [
      "Series: as.ts(traindata$traffic_volume, frequency = 24) \n",
      "Regression with ARIMA(3,1,0) errors \n",
      "\n",
      "Coefficients:\n",
      "         ar1      ar2      ar3      xreg\n",
      "      0.5562  -0.1927  -0.0615  103.2965\n",
      "s.e.  0.0071   0.0080   0.0071    5.6839\n",
      "\n",
      "sigma^2 estimated as 601288:  log likelihood=-162599.6\n",
      "AIC=325209.2   AICc=325209.2   BIC=325248.7\n",
      "\n",
      "Training set error measures:\n",
      "                     ME     RMSE      MAE  MPE MAPE      MASE         ACF1\n",
      "Training set 0.09066517 775.3315 510.4895 -Inf  Inf 0.8101961 -0.002615839\n"
     ]
    }
   ],
   "source": [
    "summary(model2ar)"
   ]
  },
  {
   "cell_type": "markdown",
   "metadata": {},
   "source": [
    "Model suggests a structure with errors are ARIMA(3,1,0)"
   ]
  },
  {
   "cell_type": "code",
   "execution_count": 107,
   "metadata": {},
   "outputs": [],
   "source": [
    "predictions2ar=forecast(model2ar,h=24,xreg=testregdata[c(1:24),'temp'])"
   ]
  },
  {
   "cell_type": "code",
   "execution_count": 108,
   "metadata": {},
   "outputs": [
    {
     "data": {
      "text/plain": [
       "      Point Forecast      Lo 80    Hi 80      Lo 95     Hi 95\n",
       "20145       1414.264   420.5131 2408.014  -105.5466  2934.074\n",
       "20146       1412.652  -425.5824 3250.887 -1398.6852  4223.990\n",
       "20147       1463.294 -1015.1388 3941.726 -2327.1416  5253.729\n",
       "20148       1493.994 -1434.1192 4422.108 -2984.1687  5972.157\n",
       "20149       1473.339 -1792.1538 4738.832 -3520.8014  6467.480\n",
       "20150       1428.112 -2122.8930 4979.116 -4002.6813  6858.904\n",
       "20151       1427.334 -2387.9386 5242.606 -4407.6217  7262.289\n",
       "20152       1382.997 -2685.1942 5451.187 -4838.7643  7604.757\n",
       "20153       1350.958 -2959.4119 5661.328 -5241.1841  7943.101\n",
       "20154       1350.220 -3190.5778 5891.017 -5594.3309  8294.771\n",
       "20155       1504.089 -3255.5765 6263.755 -5775.1914  8783.370\n",
       "20156       1684.121 -3284.1375 6652.380 -5914.1749  9282.418\n",
       "20157       1822.431 -3345.6774 6990.539 -6081.5087  9726.371\n",
       "20158       1956.538 -3403.9335 7317.010 -6241.5959 10154.673\n",
       "20159       2111.387 -3434.8540 7657.628 -6370.8566 10593.630\n",
       "20160       2180.583 -3545.4684 7906.634 -6576.6568 10937.822\n",
       "20161       2214.693 -3685.7156 8115.102 -6809.2032 11238.589\n",
       "20162       2148.604 -3921.1525 8218.361 -7134.2876 11431.496\n",
       "20163       2015.360 -4219.1370 8249.856 -7519.4802 11550.200\n",
       "20164       1958.546 -4436.4426 8353.534 -7821.7450 11738.836\n",
       "20165       1867.641 -4683.9068 8419.190 -8152.0869 11887.370\n",
       "20166       1794.299 -4910.1554 8498.753 -8459.2790 12047.876\n",
       "20167       1774.672 -5079.2788 8628.623 -8707.5412 12256.885\n",
       "20168       1719.925 -5280.3309 8720.181 -8986.0425 12425.893"
      ]
     },
     "metadata": {},
     "output_type": "display_data"
    }
   ],
   "source": [
    "predictions2ar"
   ]
  },
  {
   "cell_type": "code",
   "execution_count": 109,
   "metadata": {},
   "outputs": [
    {
     "data": {
      "text/html": [
       "771.252206449333"
      ],
      "text/latex": [
       "771.252206449333"
      ],
      "text/markdown": [
       "771.252206449333"
      ],
      "text/plain": [
       "[1] 771.2522"
      ]
     },
     "metadata": {},
     "output_type": "display_data"
    }
   ],
   "source": [
    "sqrt(sum((as.numeric(predictions2ar$mean)-testdata[c(1:24),]$traffic_volume)^2)/24)"
   ]
  },
  {
   "cell_type": "markdown",
   "metadata": {},
   "source": [
    "RMSE of ARIMA with external regressor."
   ]
  },
  {
   "cell_type": "code",
   "execution_count": 111,
   "metadata": {
    "scrolled": true
   },
   "outputs": [
    {
     "data": {
      "text/html": [
       "677.505960984807"
      ],
      "text/latex": [
       "677.505960984807"
      ],
      "text/markdown": [
       "677.505960984807"
      ],
      "text/plain": [
       "[1] 677.506"
      ]
     },
     "metadata": {},
     "output_type": "display_data"
    }
   ],
   "source": [
    "sqrt(sum(((as.numeric(predictionsar1$mean)+predictions2ar$mean)/2-testdata[c(1:24),]$traffic_volume)^2)/24)"
   ]
  },
  {
   "cell_type": "markdown",
   "metadata": {},
   "source": [
    "RMSE if we use, average of two predictions. As we expect, ensemble method gives better results."
   ]
  },
  {
   "cell_type": "markdown",
   "metadata": {},
   "source": [
    "For the model part, I wanted to introduce other models which use SARIMA with frequency 24. However my computational power did not let me to do it. There can be better models, since auto.arima could not find any seasonal components."
   ]
  },
  {
   "cell_type": "markdown",
   "metadata": {},
   "source": [
    "## Ensemble"
   ]
  },
  {
   "cell_type": "code",
   "execution_count": 114,
   "metadata": {},
   "outputs": [],
   "source": [
    "testdata <- data[c(24285:32233),]"
   ]
  },
  {
   "cell_type": "code",
   "execution_count": 115,
   "metadata": {},
   "outputs": [],
   "source": [
    "conclusion <- testdata[c(1:24),]"
   ]
  },
  {
   "cell_type": "code",
   "execution_count": 116,
   "metadata": {},
   "outputs": [
    {
     "data": {
      "text/html": [
       "<table>\n",
       "<thead><tr><th></th><th scope=col>holiday</th><th scope=col>temp</th><th scope=col>rain_1h</th><th scope=col>snow_1h</th><th scope=col>clouds_all</th><th scope=col>weather_main</th><th scope=col>date_time</th><th scope=col>traffic_volume</th><th scope=col>Hour</th><th scope=col>day</th><th scope=col>lag</th><th scope=col>lag24</th></tr></thead>\n",
       "<tbody>\n",
       "\t<tr><th scope=row>24285</th><td>Holiday            </td><td>249.36             </td><td>0                  </td><td>0                  </td><td>1                  </td><td>Clear              </td><td>2018-01-01 00:00:00</td><td>1478               </td><td>00                 </td><td>Pazartesi          </td><td>1580               </td><td>1000               </td></tr>\n",
       "\t<tr><th scope=row>24286</th><td>None               </td><td>249.08             </td><td>0                  </td><td>0                  </td><td>1                  </td><td>Clear              </td><td>2018-01-01 01:00:00</td><td>1408               </td><td>01                 </td><td>Pazartesi          </td><td>1478               </td><td> 711               </td></tr>\n",
       "\t<tr><th scope=row>24287</th><td>None               </td><td>248.86             </td><td>0                  </td><td>0                  </td><td>1                  </td><td>Clear              </td><td>2018-01-01 02:00:00</td><td> 931               </td><td>02                 </td><td>Pazartesi          </td><td>1408               </td><td> 519               </td></tr>\n",
       "\t<tr><th scope=row>24288</th><td>None               </td><td>248.72             </td><td>0                  </td><td>0                  </td><td>1                  </td><td>Clear              </td><td>2018-01-01 03:00:00</td><td> 585               </td><td>03                 </td><td>Pazartesi          </td><td> 931               </td><td> 303               </td></tr>\n",
       "\t<tr><th scope=row>24289</th><td>None               </td><td>248.43             </td><td>0                  </td><td>0                  </td><td>1                  </td><td>Clear              </td><td>2018-01-01 04:00:00</td><td> 381               </td><td>04                 </td><td>Pazartesi          </td><td> 585               </td><td> 285               </td></tr>\n",
       "\t<tr><th scope=row>24290</th><td>None               </td><td>248.07             </td><td>0                  </td><td>0                  </td><td>1                  </td><td>Clear              </td><td>2018-01-01 05:00:00</td><td> 434               </td><td>05                 </td><td>Pazartesi          </td><td> 381               </td><td> 457               </td></tr>\n",
       "\t<tr><th scope=row>24291</th><td>None               </td><td>248.15             </td><td>0                  </td><td>0                  </td><td>1                  </td><td>Clear              </td><td>2018-01-01 06:00:00</td><td> 686               </td><td>06                 </td><td>Pazartesi          </td><td> 434               </td><td> 808               </td></tr>\n",
       "\t<tr><th scope=row>24292</th><td>None               </td><td>247.76             </td><td>0                  </td><td>0                  </td><td>1                  </td><td>Clear              </td><td>2018-01-01 07:00:00</td><td> 677               </td><td>07                 </td><td>Pazartesi          </td><td> 686               </td><td> 959               </td></tr>\n",
       "\t<tr><th scope=row>24293</th><td>None               </td><td>247.45             </td><td>0                  </td><td>0                  </td><td>5                  </td><td>Clear              </td><td>2018-01-01 08:00:00</td><td> 811               </td><td>08                 </td><td>Pazartesi          </td><td> 677               </td><td>1319               </td></tr>\n",
       "\t<tr><th scope=row>24294</th><td>None               </td><td>247.43             </td><td>0                  </td><td>0                  </td><td>1                  </td><td>Clear              </td><td>2018-01-01 09:00:00</td><td>1122               </td><td>09                 </td><td>Pazartesi          </td><td> 811               </td><td>2384               </td></tr>\n",
       "\t<tr><th scope=row>24295</th><td>None               </td><td>248.91             </td><td>0                  </td><td>0                  </td><td>1                  </td><td>Clear              </td><td>2018-01-01 10:00:00</td><td>1738               </td><td>10                 </td><td>Pazartesi          </td><td>1122               </td><td>3504               </td></tr>\n",
       "\t<tr><th scope=row>24296</th><td>None               </td><td>250.65             </td><td>0                  </td><td>0                  </td><td>1                  </td><td>Clear              </td><td>2018-01-01 11:00:00</td><td>2421               </td><td>11                 </td><td>Pazartesi          </td><td>1738               </td><td>3404               </td></tr>\n",
       "\t<tr><th scope=row>24297</th><td>None               </td><td>251.99             </td><td>0                  </td><td>0                  </td><td>1                  </td><td>Clear              </td><td>2018-01-01 12:00:00</td><td>2908               </td><td>12                 </td><td>Pazartesi          </td><td>2421               </td><td>3438               </td></tr>\n",
       "\t<tr><th scope=row>24298</th><td>None               </td><td>253.29             </td><td>0                  </td><td>0                  </td><td>1                  </td><td>Clear              </td><td>2018-01-01 13:00:00</td><td>2985               </td><td>13                 </td><td>Pazartesi          </td><td>2908               </td><td>3212               </td></tr>\n",
       "\t<tr><th scope=row>24299</th><td>None               </td><td>254.79             </td><td>0                  </td><td>0                  </td><td>5                  </td><td>Clear              </td><td>2018-01-01 14:00:00</td><td>3214               </td><td>14                 </td><td>Pazartesi          </td><td>2985               </td><td>3410               </td></tr>\n",
       "\t<tr><th scope=row>24300</th><td>None               </td><td>255.46             </td><td>0                  </td><td>0                  </td><td>1                  </td><td>Clear              </td><td>2018-01-01 15:00:00</td><td>3410               </td><td>15                 </td><td>Pazartesi          </td><td>3214               </td><td>3635               </td></tr>\n",
       "\t<tr><th scope=row>24301</th><td>None               </td><td>255.79             </td><td>0                  </td><td>0                  </td><td>5                  </td><td>Clear              </td><td>2018-01-01 16:00:00</td><td>3290               </td><td>16                 </td><td>Pazartesi          </td><td>3410               </td><td>3802               </td></tr>\n",
       "\t<tr><th scope=row>24302</th><td>None               </td><td>255.15             </td><td>0                  </td><td>0                  </td><td>1                  </td><td>Clear              </td><td>2018-01-01 17:00:00</td><td>3079               </td><td>17                 </td><td>Pazartesi          </td><td>3290               </td><td>3513               </td></tr>\n",
       "\t<tr><th scope=row>24303</th><td>None               </td><td>253.86             </td><td>0                  </td><td>0                  </td><td>5                  </td><td>Clear              </td><td>2018-01-01 18:00:00</td><td>2891               </td><td>18                 </td><td>Pazartesi          </td><td>3079               </td><td>3350               </td></tr>\n",
       "\t<tr><th scope=row>24304</th><td>None               </td><td>253.31             </td><td>0                  </td><td>0                  </td><td>1                  </td><td>Clear              </td><td>2018-01-01 19:00:00</td><td>2199               </td><td>19                 </td><td>Pazartesi          </td><td>2891               </td><td>2995               </td></tr>\n",
       "\t<tr><th scope=row>24305</th><td>None               </td><td>252.43             </td><td>0                  </td><td>0                  </td><td>5                  </td><td>Clear              </td><td>2018-01-01 20:00:00</td><td>1738               </td><td>20                 </td><td>Pazartesi          </td><td>2199               </td><td>2731               </td></tr>\n",
       "\t<tr><th scope=row>24306</th><td>None               </td><td>251.72             </td><td>0                  </td><td>0                  </td><td>1                  </td><td>Clear              </td><td>2018-01-01 21:00:00</td><td>1555               </td><td>21                 </td><td>Pazartesi          </td><td>1738               </td><td>2483               </td></tr>\n",
       "\t<tr><th scope=row>24307</th><td>None               </td><td>251.53             </td><td>0                  </td><td>0                  </td><td>1                  </td><td>Clear              </td><td>2018-01-01 22:00:00</td><td>1213               </td><td>22                 </td><td>Pazartesi          </td><td>1555               </td><td>2041               </td></tr>\n",
       "\t<tr><th scope=row>24308</th><td>None               </td><td>251.00             </td><td>0                  </td><td>0                  </td><td>1                  </td><td>Clear              </td><td>2018-01-01 23:00:00</td><td> 830               </td><td>23                 </td><td>Pazartesi          </td><td>1213               </td><td>1580               </td></tr>\n",
       "</tbody>\n",
       "</table>\n"
      ],
      "text/latex": [
       "\\begin{tabular}{r|llllllllllll}\n",
       "  & holiday & temp & rain\\_1h & snow\\_1h & clouds\\_all & weather\\_main & date\\_time & traffic\\_volume & Hour & day & lag & lag24\\\\\n",
       "\\hline\n",
       "\t24285 & Holiday             & 249.36              & 0                   & 0                   & 1                   & Clear               & 2018-01-01 00:00:00 & 1478                & 00                  & Pazartesi           & 1580                & 1000               \\\\\n",
       "\t24286 & None                & 249.08              & 0                   & 0                   & 1                   & Clear               & 2018-01-01 01:00:00 & 1408                & 01                  & Pazartesi           & 1478                &  711               \\\\\n",
       "\t24287 & None                & 248.86              & 0                   & 0                   & 1                   & Clear               & 2018-01-01 02:00:00 &  931                & 02                  & Pazartesi           & 1408                &  519               \\\\\n",
       "\t24288 & None                & 248.72              & 0                   & 0                   & 1                   & Clear               & 2018-01-01 03:00:00 &  585                & 03                  & Pazartesi           &  931                &  303               \\\\\n",
       "\t24289 & None                & 248.43              & 0                   & 0                   & 1                   & Clear               & 2018-01-01 04:00:00 &  381                & 04                  & Pazartesi           &  585                &  285               \\\\\n",
       "\t24290 & None                & 248.07              & 0                   & 0                   & 1                   & Clear               & 2018-01-01 05:00:00 &  434                & 05                  & Pazartesi           &  381                &  457               \\\\\n",
       "\t24291 & None                & 248.15              & 0                   & 0                   & 1                   & Clear               & 2018-01-01 06:00:00 &  686                & 06                  & Pazartesi           &  434                &  808               \\\\\n",
       "\t24292 & None                & 247.76              & 0                   & 0                   & 1                   & Clear               & 2018-01-01 07:00:00 &  677                & 07                  & Pazartesi           &  686                &  959               \\\\\n",
       "\t24293 & None                & 247.45              & 0                   & 0                   & 5                   & Clear               & 2018-01-01 08:00:00 &  811                & 08                  & Pazartesi           &  677                & 1319               \\\\\n",
       "\t24294 & None                & 247.43              & 0                   & 0                   & 1                   & Clear               & 2018-01-01 09:00:00 & 1122                & 09                  & Pazartesi           &  811                & 2384               \\\\\n",
       "\t24295 & None                & 248.91              & 0                   & 0                   & 1                   & Clear               & 2018-01-01 10:00:00 & 1738                & 10                  & Pazartesi           & 1122                & 3504               \\\\\n",
       "\t24296 & None                & 250.65              & 0                   & 0                   & 1                   & Clear               & 2018-01-01 11:00:00 & 2421                & 11                  & Pazartesi           & 1738                & 3404               \\\\\n",
       "\t24297 & None                & 251.99              & 0                   & 0                   & 1                   & Clear               & 2018-01-01 12:00:00 & 2908                & 12                  & Pazartesi           & 2421                & 3438               \\\\\n",
       "\t24298 & None                & 253.29              & 0                   & 0                   & 1                   & Clear               & 2018-01-01 13:00:00 & 2985                & 13                  & Pazartesi           & 2908                & 3212               \\\\\n",
       "\t24299 & None                & 254.79              & 0                   & 0                   & 5                   & Clear               & 2018-01-01 14:00:00 & 3214                & 14                  & Pazartesi           & 2985                & 3410               \\\\\n",
       "\t24300 & None                & 255.46              & 0                   & 0                   & 1                   & Clear               & 2018-01-01 15:00:00 & 3410                & 15                  & Pazartesi           & 3214                & 3635               \\\\\n",
       "\t24301 & None                & 255.79              & 0                   & 0                   & 5                   & Clear               & 2018-01-01 16:00:00 & 3290                & 16                  & Pazartesi           & 3410                & 3802               \\\\\n",
       "\t24302 & None                & 255.15              & 0                   & 0                   & 1                   & Clear               & 2018-01-01 17:00:00 & 3079                & 17                  & Pazartesi           & 3290                & 3513               \\\\\n",
       "\t24303 & None                & 253.86              & 0                   & 0                   & 5                   & Clear               & 2018-01-01 18:00:00 & 2891                & 18                  & Pazartesi           & 3079                & 3350               \\\\\n",
       "\t24304 & None                & 253.31              & 0                   & 0                   & 1                   & Clear               & 2018-01-01 19:00:00 & 2199                & 19                  & Pazartesi           & 2891                & 2995               \\\\\n",
       "\t24305 & None                & 252.43              & 0                   & 0                   & 5                   & Clear               & 2018-01-01 20:00:00 & 1738                & 20                  & Pazartesi           & 2199                & 2731               \\\\\n",
       "\t24306 & None                & 251.72              & 0                   & 0                   & 1                   & Clear               & 2018-01-01 21:00:00 & 1555                & 21                  & Pazartesi           & 1738                & 2483               \\\\\n",
       "\t24307 & None                & 251.53              & 0                   & 0                   & 1                   & Clear               & 2018-01-01 22:00:00 & 1213                & 22                  & Pazartesi           & 1555                & 2041               \\\\\n",
       "\t24308 & None                & 251.00              & 0                   & 0                   & 1                   & Clear               & 2018-01-01 23:00:00 &  830                & 23                  & Pazartesi           & 1213                & 1580               \\\\\n",
       "\\end{tabular}\n"
      ],
      "text/markdown": [
       "\n",
       "| <!--/--> | holiday | temp | rain_1h | snow_1h | clouds_all | weather_main | date_time | traffic_volume | Hour | day | lag | lag24 |\n",
       "|---|---|---|---|---|---|---|---|---|---|---|---|---|\n",
       "| 24285 | Holiday             | 249.36              | 0                   | 0                   | 1                   | Clear               | 2018-01-01 00:00:00 | 1478                | 00                  | Pazartesi           | 1580                | 1000                |\n",
       "| 24286 | None                | 249.08              | 0                   | 0                   | 1                   | Clear               | 2018-01-01 01:00:00 | 1408                | 01                  | Pazartesi           | 1478                |  711                |\n",
       "| 24287 | None                | 248.86              | 0                   | 0                   | 1                   | Clear               | 2018-01-01 02:00:00 |  931                | 02                  | Pazartesi           | 1408                |  519                |\n",
       "| 24288 | None                | 248.72              | 0                   | 0                   | 1                   | Clear               | 2018-01-01 03:00:00 |  585                | 03                  | Pazartesi           |  931                |  303                |\n",
       "| 24289 | None                | 248.43              | 0                   | 0                   | 1                   | Clear               | 2018-01-01 04:00:00 |  381                | 04                  | Pazartesi           |  585                |  285                |\n",
       "| 24290 | None                | 248.07              | 0                   | 0                   | 1                   | Clear               | 2018-01-01 05:00:00 |  434                | 05                  | Pazartesi           |  381                |  457                |\n",
       "| 24291 | None                | 248.15              | 0                   | 0                   | 1                   | Clear               | 2018-01-01 06:00:00 |  686                | 06                  | Pazartesi           |  434                |  808                |\n",
       "| 24292 | None                | 247.76              | 0                   | 0                   | 1                   | Clear               | 2018-01-01 07:00:00 |  677                | 07                  | Pazartesi           |  686                |  959                |\n",
       "| 24293 | None                | 247.45              | 0                   | 0                   | 5                   | Clear               | 2018-01-01 08:00:00 |  811                | 08                  | Pazartesi           |  677                | 1319                |\n",
       "| 24294 | None                | 247.43              | 0                   | 0                   | 1                   | Clear               | 2018-01-01 09:00:00 | 1122                | 09                  | Pazartesi           |  811                | 2384                |\n",
       "| 24295 | None                | 248.91              | 0                   | 0                   | 1                   | Clear               | 2018-01-01 10:00:00 | 1738                | 10                  | Pazartesi           | 1122                | 3504                |\n",
       "| 24296 | None                | 250.65              | 0                   | 0                   | 1                   | Clear               | 2018-01-01 11:00:00 | 2421                | 11                  | Pazartesi           | 1738                | 3404                |\n",
       "| 24297 | None                | 251.99              | 0                   | 0                   | 1                   | Clear               | 2018-01-01 12:00:00 | 2908                | 12                  | Pazartesi           | 2421                | 3438                |\n",
       "| 24298 | None                | 253.29              | 0                   | 0                   | 1                   | Clear               | 2018-01-01 13:00:00 | 2985                | 13                  | Pazartesi           | 2908                | 3212                |\n",
       "| 24299 | None                | 254.79              | 0                   | 0                   | 5                   | Clear               | 2018-01-01 14:00:00 | 3214                | 14                  | Pazartesi           | 2985                | 3410                |\n",
       "| 24300 | None                | 255.46              | 0                   | 0                   | 1                   | Clear               | 2018-01-01 15:00:00 | 3410                | 15                  | Pazartesi           | 3214                | 3635                |\n",
       "| 24301 | None                | 255.79              | 0                   | 0                   | 5                   | Clear               | 2018-01-01 16:00:00 | 3290                | 16                  | Pazartesi           | 3410                | 3802                |\n",
       "| 24302 | None                | 255.15              | 0                   | 0                   | 1                   | Clear               | 2018-01-01 17:00:00 | 3079                | 17                  | Pazartesi           | 3290                | 3513                |\n",
       "| 24303 | None                | 253.86              | 0                   | 0                   | 5                   | Clear               | 2018-01-01 18:00:00 | 2891                | 18                  | Pazartesi           | 3079                | 3350                |\n",
       "| 24304 | None                | 253.31              | 0                   | 0                   | 1                   | Clear               | 2018-01-01 19:00:00 | 2199                | 19                  | Pazartesi           | 2891                | 2995                |\n",
       "| 24305 | None                | 252.43              | 0                   | 0                   | 5                   | Clear               | 2018-01-01 20:00:00 | 1738                | 20                  | Pazartesi           | 2199                | 2731                |\n",
       "| 24306 | None                | 251.72              | 0                   | 0                   | 1                   | Clear               | 2018-01-01 21:00:00 | 1555                | 21                  | Pazartesi           | 1738                | 2483                |\n",
       "| 24307 | None                | 251.53              | 0                   | 0                   | 1                   | Clear               | 2018-01-01 22:00:00 | 1213                | 22                  | Pazartesi           | 1555                | 2041                |\n",
       "| 24308 | None                | 251.00              | 0                   | 0                   | 1                   | Clear               | 2018-01-01 23:00:00 |  830                | 23                  | Pazartesi           | 1213                | 1580                |\n",
       "\n"
      ],
      "text/plain": [
       "      holiday temp   rain_1h snow_1h clouds_all weather_main\n",
       "24285 Holiday 249.36 0       0       1          Clear       \n",
       "24286 None    249.08 0       0       1          Clear       \n",
       "24287 None    248.86 0       0       1          Clear       \n",
       "24288 None    248.72 0       0       1          Clear       \n",
       "24289 None    248.43 0       0       1          Clear       \n",
       "24290 None    248.07 0       0       1          Clear       \n",
       "24291 None    248.15 0       0       1          Clear       \n",
       "24292 None    247.76 0       0       1          Clear       \n",
       "24293 None    247.45 0       0       5          Clear       \n",
       "24294 None    247.43 0       0       1          Clear       \n",
       "24295 None    248.91 0       0       1          Clear       \n",
       "24296 None    250.65 0       0       1          Clear       \n",
       "24297 None    251.99 0       0       1          Clear       \n",
       "24298 None    253.29 0       0       1          Clear       \n",
       "24299 None    254.79 0       0       5          Clear       \n",
       "24300 None    255.46 0       0       1          Clear       \n",
       "24301 None    255.79 0       0       5          Clear       \n",
       "24302 None    255.15 0       0       1          Clear       \n",
       "24303 None    253.86 0       0       5          Clear       \n",
       "24304 None    253.31 0       0       1          Clear       \n",
       "24305 None    252.43 0       0       5          Clear       \n",
       "24306 None    251.72 0       0       1          Clear       \n",
       "24307 None    251.53 0       0       1          Clear       \n",
       "24308 None    251.00 0       0       1          Clear       \n",
       "      date_time           traffic_volume Hour day       lag  lag24\n",
       "24285 2018-01-01 00:00:00 1478           00   Pazartesi 1580 1000 \n",
       "24286 2018-01-01 01:00:00 1408           01   Pazartesi 1478  711 \n",
       "24287 2018-01-01 02:00:00  931           02   Pazartesi 1408  519 \n",
       "24288 2018-01-01 03:00:00  585           03   Pazartesi  931  303 \n",
       "24289 2018-01-01 04:00:00  381           04   Pazartesi  585  285 \n",
       "24290 2018-01-01 05:00:00  434           05   Pazartesi  381  457 \n",
       "24291 2018-01-01 06:00:00  686           06   Pazartesi  434  808 \n",
       "24292 2018-01-01 07:00:00  677           07   Pazartesi  686  959 \n",
       "24293 2018-01-01 08:00:00  811           08   Pazartesi  677 1319 \n",
       "24294 2018-01-01 09:00:00 1122           09   Pazartesi  811 2384 \n",
       "24295 2018-01-01 10:00:00 1738           10   Pazartesi 1122 3504 \n",
       "24296 2018-01-01 11:00:00 2421           11   Pazartesi 1738 3404 \n",
       "24297 2018-01-01 12:00:00 2908           12   Pazartesi 2421 3438 \n",
       "24298 2018-01-01 13:00:00 2985           13   Pazartesi 2908 3212 \n",
       "24299 2018-01-01 14:00:00 3214           14   Pazartesi 2985 3410 \n",
       "24300 2018-01-01 15:00:00 3410           15   Pazartesi 3214 3635 \n",
       "24301 2018-01-01 16:00:00 3290           16   Pazartesi 3410 3802 \n",
       "24302 2018-01-01 17:00:00 3079           17   Pazartesi 3290 3513 \n",
       "24303 2018-01-01 18:00:00 2891           18   Pazartesi 3079 3350 \n",
       "24304 2018-01-01 19:00:00 2199           19   Pazartesi 2891 2995 \n",
       "24305 2018-01-01 20:00:00 1738           20   Pazartesi 2199 2731 \n",
       "24306 2018-01-01 21:00:00 1555           21   Pazartesi 1738 2483 \n",
       "24307 2018-01-01 22:00:00 1213           22   Pazartesi 1555 2041 \n",
       "24308 2018-01-01 23:00:00  830           23   Pazartesi 1213 1580 "
      ]
     },
     "metadata": {},
     "output_type": "display_data"
    }
   ],
   "source": [
    "conclusion"
   ]
  },
  {
   "cell_type": "code",
   "execution_count": 117,
   "metadata": {},
   "outputs": [],
   "source": [
    "predictionsmodel1 <- forecast(model1, conclusion[,c(\"holiday\",\"temp\",\"rain_1h\",\"snow_1h\",\"weather_main\",\"clouds_all\",\"Hour\",\"day\")])\n",
    "predictionsmodel2 <- forecast(model2, conclusion[,c(\"holiday\",\"temp\",\"clouds_all\",\"Hour\",\"day\")])\n",
    "predictionsmodel3 <- forecast(model3, conclusion[,c(\"holiday\",\"temp\",\"clouds_all\",\"Hour\",\"day\",\"lag\",\"lag24\")])"
   ]
  },
  {
   "cell_type": "markdown",
   "metadata": {},
   "source": [
    "Since we have predictions for the first 24 hour of the 2018 for ARIMA. We just need to predict for regression models."
   ]
  },
  {
   "cell_type": "code",
   "execution_count": 120,
   "metadata": {},
   "outputs": [],
   "source": [
    "predictionsall=data.frame(matrix(, nrow=24, ncol=0))\n",
    "predictionsall[\"time\"] = seq(0, 23)\n",
    "predictionsall[\"True\"]<-conclusion$traffic_volume\n",
    "predictionsall[\"Model1\"]<-predictionsmodel1$mean\n",
    "predictionsall[\"Model2\"]<-predictionsmodel2$mean\n",
    "predictionsall[\"Model3\"]<-predictionsmodel3$mean\n",
    "predictionsall[\"ModelAr1\"]<-predictionsar1$mean\n",
    "predictionsall[\"ModelAr2\"]<-predictions2ar$mean\n",
    "predictionsall[\"Ensemble\"]<-(as.numeric(predictionsar1$mean)+predictions2ar$mean+predictionsmodel1$mean+predictionsmodel2$mean+predictionsmodel3$mean)/5"
   ]
  },
  {
   "cell_type": "code",
   "execution_count": 143,
   "metadata": {
    "caption": "somecaption",
    "label": "Figure",
    "widefigure": true
   },
   "outputs": [
    {
     "data": {
      "image/png": "[encoded data removed]",
      "text/plain": [
       "plot without title"
      ]
     },
     "metadata": {},
     "output_type": "display_data"
    }
   ],
   "source": [
    "Molten <- melt(predictionsall,id.vars=\"time\")\n",
    "ggplot(Molten, aes(x = time, y = value, colour = variable)) + geom_line()"
   ]
  },
  {
   "cell_type": "markdown",
   "metadata": {},
   "source": [
    "                                    Figure 9: Predictions vs True Data"
   ]
  },
  {
   "cell_type": "markdown",
   "metadata": {},
   "source": [
    "Above figure we can see model predictions and true value together."
   ]
  },
  {
   "cell_type": "code",
   "execution_count": 122,
   "metadata": {},
   "outputs": [],
   "source": [
    "results = data.frame(\"Model1\"=0)\n",
    "results[\"Model1\"]<-sqrt(sum((predictionsmodel1$mean-conclusion$traffic_volume)^2)/24)\n",
    "results[\"Model2\"]<-sqrt(sum((predictionsmodel2$mean-conclusion$traffic_volume)^2)/24)\n",
    "results[\"Model3\"]<-sqrt(sum((predictionsmodel3$mean-conclusion$traffic_volume)^2)/24)\n",
    "results[\"ModelAr1\"]<-sqrt(sum((predictionsar1$mean-conclusion$traffic_volume)^2)/24)\n",
    "results[\"ModelAr2\"]<-sqrt(sum((predictions2ar$mean-conclusion$traffic_volume)^2)/24)\n",
    "results[\"Ensemble\"]<-sqrt(sum(((as.numeric(predictionsar1$mean)+predictions2ar$mean+predictionsmodel1$mean+predictionsmodel2$mean+predictionsmodel3$mean)/5-conclusion$traffic_volume)^2)/24)"
   ]
  },
  {
   "cell_type": "markdown",
   "metadata": {},
   "source": [
    "Created a dataframe with RMSE values for 6 models"
   ]
  },
  {
   "cell_type": "code",
   "execution_count": 123,
   "metadata": {
    "scrolled": false
   },
   "outputs": [
    {
     "data": {
      "text/html": [
       "<table>\n",
       "<thead><tr><th scope=col>Model1</th><th scope=col>Model2</th><th scope=col>Model3</th><th scope=col>ModelAr1</th><th scope=col>ModelAr2</th><th scope=col>Ensemble</th></tr></thead>\n",
       "<tbody>\n",
       "\t<tr><td>2008.515</td><td>1987.377</td><td>745.7541</td><td>760.0941</td><td>771.2522</td><td>1054.638</td></tr>\n",
       "</tbody>\n",
       "</table>\n"
      ],
      "text/latex": [
       "\\begin{tabular}{r|llllll}\n",
       " Model1 & Model2 & Model3 & ModelAr1 & ModelAr2 & Ensemble\\\\\n",
       "\\hline\n",
       "\t 2008.515 & 1987.377 & 745.7541 & 760.0941 & 771.2522 & 1054.638\\\\\n",
       "\\end{tabular}\n"
      ],
      "text/markdown": [
       "\n",
       "| Model1 | Model2 | Model3 | ModelAr1 | ModelAr2 | Ensemble |\n",
       "|---|---|---|---|---|---|\n",
       "| 2008.515 | 1987.377 | 745.7541 | 760.0941 | 771.2522 | 1054.638 |\n",
       "\n"
      ],
      "text/plain": [
       "  Model1   Model2   Model3   ModelAr1 ModelAr2 Ensemble\n",
       "1 2008.515 1987.377 745.7541 760.0941 771.2522 1054.638"
      ]
     },
     "metadata": {},
     "output_type": "display_data"
    }
   ],
   "source": [
    "results"
   ]
  },
  {
   "cell_type": "markdown",
   "metadata": {},
   "source": [
    "Since the test data starts from 2018, I forecasted the first 24 hours of the 01-01-2018.\n",
    "\n",
    "In theory, we would expect Ensemble method gives the best RMSE. However, in this test data with the first day of 2018. Regression performed better. There can be several reasons for that, we took the direct average of the models, as the questions suggests. if we take weighted average of the 5 model, Ensemble method could perform better. Again with the graph above, we can say that weighted average for ensemble would perform better.\n",
    "\n",
    "\n",
    "In addition to that, Model 1 performs bad on the predictions, with equally weighted average it causes problems in Ensemble method.\n"
   ]
  }
 ],
 "metadata": {
  "kernelspec": {
   "display_name": "R",
   "language": "R",
   "name": "ir"
  },
  "language_info": {
   "codemirror_mode": "r",
   "file_extension": ".r",
   "mimetype": "text/x-r-source",
   "name": "R",
   "pygments_lexer": "r",
   "version": "3.6.1"
  }
 },
 "nbformat": 4,
 "nbformat_minor": 2
}
